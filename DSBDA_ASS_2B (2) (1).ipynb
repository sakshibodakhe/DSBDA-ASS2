{
 "cells": [
  {
   "cell_type": "code",
   "execution_count": 1,
   "metadata": {
    "id": "VqEUaOFLKP59"
   },
   "outputs": [],
   "source": [
    "import pandas as pd"
   ]
  },
  {
   "cell_type": "code",
   "execution_count": 2,
   "metadata": {
    "id": "pFMmyNzxPd3y"
   },
   "outputs": [],
   "source": [
    "df =pd.read_csv(\"C:/Users/coeco/Downloads/Untitled spreadsheet - Sheet2.csv\")"
   ]
  },
  {
   "cell_type": "code",
   "execution_count": 3,
   "metadata": {
    "id": "LqI6Y5DITt7i"
   },
   "outputs": [],
   "source": [
    "df1=df\n",
    "df2=df1\n",
    "df3=df\n",
    "df4=df"
   ]
  },
  {
   "cell_type": "code",
   "execution_count": 4,
   "metadata": {
    "colab": {
     "base_uri": "https://localhost:8080/",
     "height": 488
    },
    "id": "DakzJmRBT9W3",
    "outputId": "feb10a6a-8c82-4c44-ed97-98d28f38027c"
   },
   "outputs": [
    {
     "data": {
      "text/html": [
       "<div>\n",
       "<style scoped>\n",
       "    .dataframe tbody tr th:only-of-type {\n",
       "        vertical-align: middle;\n",
       "    }\n",
       "\n",
       "    .dataframe tbody tr th {\n",
       "        vertical-align: top;\n",
       "    }\n",
       "\n",
       "    .dataframe thead th {\n",
       "        text-align: right;\n",
       "    }\n",
       "</style>\n",
       "<table border=\"1\" class=\"dataframe\">\n",
       "  <thead>\n",
       "    <tr style=\"text-align: right;\">\n",
       "      <th></th>\n",
       "      <th>Maths Score</th>\n",
       "      <th>Reading Score</th>\n",
       "      <th>Writing Score</th>\n",
       "      <th>Placement Score</th>\n",
       "      <th>Club Join Year</th>\n",
       "      <th>Placement Offer Count</th>\n",
       "      <th>Gender</th>\n",
       "    </tr>\n",
       "  </thead>\n",
       "  <tbody>\n",
       "    <tr>\n",
       "      <th>0</th>\n",
       "      <td>64</td>\n",
       "      <td>84</td>\n",
       "      <td>73</td>\n",
       "      <td>65</td>\n",
       "      <td>2024</td>\n",
       "      <td>1</td>\n",
       "      <td>Male</td>\n",
       "    </tr>\n",
       "    <tr>\n",
       "      <th>1</th>\n",
       "      <td>54</td>\n",
       "      <td>81</td>\n",
       "      <td>65</td>\n",
       "      <td>74</td>\n",
       "      <td>2021</td>\n",
       "      <td>1</td>\n",
       "      <td>Female</td>\n",
       "    </tr>\n",
       "    <tr>\n",
       "      <th>2</th>\n",
       "      <td>63</td>\n",
       "      <td>89</td>\n",
       "      <td>71</td>\n",
       "      <td>71</td>\n",
       "      <td>2023</td>\n",
       "      <td>1</td>\n",
       "      <td>Male</td>\n",
       "    </tr>\n",
       "    <tr>\n",
       "      <th>3</th>\n",
       "      <td>50</td>\n",
       "      <td>79</td>\n",
       "      <td>67</td>\n",
       "      <td>66</td>\n",
       "      <td>2023</td>\n",
       "      <td>1</td>\n",
       "      <td>Female</td>\n",
       "    </tr>\n",
       "    <tr>\n",
       "      <th>4</th>\n",
       "      <td>51</td>\n",
       "      <td>74</td>\n",
       "      <td>75</td>\n",
       "      <td>70</td>\n",
       "      <td>2022</td>\n",
       "      <td>1</td>\n",
       "      <td>Male</td>\n",
       "    </tr>\n",
       "    <tr>\n",
       "      <th>5</th>\n",
       "      <td>57</td>\n",
       "      <td>76</td>\n",
       "      <td>77</td>\n",
       "      <td>68</td>\n",
       "      <td>2020</td>\n",
       "      <td>1</td>\n",
       "      <td>Female</td>\n",
       "    </tr>\n",
       "    <tr>\n",
       "      <th>6</th>\n",
       "      <td>66</td>\n",
       "      <td>78</td>\n",
       "      <td>70</td>\n",
       "      <td>72</td>\n",
       "      <td>2021</td>\n",
       "      <td>1</td>\n",
       "      <td>Male</td>\n",
       "    </tr>\n",
       "    <tr>\n",
       "      <th>7</th>\n",
       "      <td>59</td>\n",
       "      <td>72</td>\n",
       "      <td>70</td>\n",
       "      <td>63</td>\n",
       "      <td>2024</td>\n",
       "      <td>1</td>\n",
       "      <td>Female</td>\n",
       "    </tr>\n",
       "    <tr>\n",
       "      <th>8</th>\n",
       "      <td>55</td>\n",
       "      <td>87</td>\n",
       "      <td>63</td>\n",
       "      <td>61</td>\n",
       "      <td>2024</td>\n",
       "      <td>1</td>\n",
       "      <td>Male</td>\n",
       "    </tr>\n",
       "    <tr>\n",
       "      <th>9</th>\n",
       "      <td>52</td>\n",
       "      <td>85</td>\n",
       "      <td>65</td>\n",
       "      <td>68</td>\n",
       "      <td>2021</td>\n",
       "      <td>1</td>\n",
       "      <td>Female</td>\n",
       "    </tr>\n",
       "    <tr>\n",
       "      <th>10</th>\n",
       "      <td>62</td>\n",
       "      <td>81</td>\n",
       "      <td>75</td>\n",
       "      <td>72</td>\n",
       "      <td>2021</td>\n",
       "      <td>1</td>\n",
       "      <td>Male</td>\n",
       "    </tr>\n",
       "    <tr>\n",
       "      <th>11</th>\n",
       "      <td>52</td>\n",
       "      <td>74</td>\n",
       "      <td>75</td>\n",
       "      <td>63</td>\n",
       "      <td>2024</td>\n",
       "      <td>1</td>\n",
       "      <td>Female</td>\n",
       "    </tr>\n",
       "    <tr>\n",
       "      <th>12</th>\n",
       "      <td>51</td>\n",
       "      <td>79</td>\n",
       "      <td>61</td>\n",
       "      <td>77</td>\n",
       "      <td>2023</td>\n",
       "      <td>2</td>\n",
       "      <td>Male</td>\n",
       "    </tr>\n",
       "    <tr>\n",
       "      <th>13</th>\n",
       "      <td>60</td>\n",
       "      <td>88</td>\n",
       "      <td>61</td>\n",
       "      <td>64</td>\n",
       "      <td>2021</td>\n",
       "      <td>1</td>\n",
       "      <td>Female</td>\n",
       "    </tr>\n",
       "  </tbody>\n",
       "</table>\n",
       "</div>"
      ],
      "text/plain": [
       "    Maths Score  Reading Score  Writing Score  Placement Score  \\\n",
       "0            64             84             73               65   \n",
       "1            54             81             65               74   \n",
       "2            63             89             71               71   \n",
       "3            50             79             67               66   \n",
       "4            51             74             75               70   \n",
       "5            57             76             77               68   \n",
       "6            66             78             70               72   \n",
       "7            59             72             70               63   \n",
       "8            55             87             63               61   \n",
       "9            52             85             65               68   \n",
       "10           62             81             75               72   \n",
       "11           52             74             75               63   \n",
       "12           51             79             61               77   \n",
       "13           60             88             61               64   \n",
       "\n",
       "    Club Join Year  Placement Offer Count  Gender  \n",
       "0             2024                      1    Male  \n",
       "1             2021                      1  Female  \n",
       "2             2023                      1    Male  \n",
       "3             2023                      1  Female  \n",
       "4             2022                      1    Male  \n",
       "5             2020                      1  Female  \n",
       "6             2021                      1    Male  \n",
       "7             2024                      1  Female  \n",
       "8             2024                      1    Male  \n",
       "9             2021                      1  Female  \n",
       "10            2021                      1    Male  \n",
       "11            2024                      1  Female  \n",
       "12            2023                      2    Male  \n",
       "13            2021                      1  Female  "
      ]
     },
     "execution_count": 4,
     "metadata": {},
     "output_type": "execute_result"
    }
   ],
   "source": [
    "df"
   ]
  },
  {
   "cell_type": "code",
   "execution_count": 5,
   "metadata": {
    "colab": {
     "base_uri": "https://localhost:8080/",
     "height": 488
    },
    "id": "xitdEIhkT_hm",
    "outputId": "a76d77d8-4015-4716-d1eb-d95544bc98fa"
   },
   "outputs": [
    {
     "data": {
      "text/html": [
       "<div>\n",
       "<style scoped>\n",
       "    .dataframe tbody tr th:only-of-type {\n",
       "        vertical-align: middle;\n",
       "    }\n",
       "\n",
       "    .dataframe tbody tr th {\n",
       "        vertical-align: top;\n",
       "    }\n",
       "\n",
       "    .dataframe thead th {\n",
       "        text-align: right;\n",
       "    }\n",
       "</style>\n",
       "<table border=\"1\" class=\"dataframe\">\n",
       "  <thead>\n",
       "    <tr style=\"text-align: right;\">\n",
       "      <th></th>\n",
       "      <th>Maths Score</th>\n",
       "      <th>Reading Score</th>\n",
       "      <th>Writing Score</th>\n",
       "      <th>Placement Score</th>\n",
       "      <th>Club Join Year</th>\n",
       "      <th>Placement Offer Count</th>\n",
       "      <th>Gender</th>\n",
       "    </tr>\n",
       "  </thead>\n",
       "  <tbody>\n",
       "    <tr>\n",
       "      <th>0</th>\n",
       "      <td>False</td>\n",
       "      <td>False</td>\n",
       "      <td>False</td>\n",
       "      <td>False</td>\n",
       "      <td>False</td>\n",
       "      <td>False</td>\n",
       "      <td>False</td>\n",
       "    </tr>\n",
       "    <tr>\n",
       "      <th>1</th>\n",
       "      <td>False</td>\n",
       "      <td>False</td>\n",
       "      <td>False</td>\n",
       "      <td>False</td>\n",
       "      <td>False</td>\n",
       "      <td>False</td>\n",
       "      <td>False</td>\n",
       "    </tr>\n",
       "    <tr>\n",
       "      <th>2</th>\n",
       "      <td>False</td>\n",
       "      <td>False</td>\n",
       "      <td>False</td>\n",
       "      <td>False</td>\n",
       "      <td>False</td>\n",
       "      <td>False</td>\n",
       "      <td>False</td>\n",
       "    </tr>\n",
       "    <tr>\n",
       "      <th>3</th>\n",
       "      <td>False</td>\n",
       "      <td>False</td>\n",
       "      <td>False</td>\n",
       "      <td>False</td>\n",
       "      <td>False</td>\n",
       "      <td>False</td>\n",
       "      <td>False</td>\n",
       "    </tr>\n",
       "    <tr>\n",
       "      <th>4</th>\n",
       "      <td>False</td>\n",
       "      <td>False</td>\n",
       "      <td>False</td>\n",
       "      <td>False</td>\n",
       "      <td>False</td>\n",
       "      <td>False</td>\n",
       "      <td>False</td>\n",
       "    </tr>\n",
       "    <tr>\n",
       "      <th>5</th>\n",
       "      <td>False</td>\n",
       "      <td>False</td>\n",
       "      <td>False</td>\n",
       "      <td>False</td>\n",
       "      <td>False</td>\n",
       "      <td>False</td>\n",
       "      <td>False</td>\n",
       "    </tr>\n",
       "    <tr>\n",
       "      <th>6</th>\n",
       "      <td>False</td>\n",
       "      <td>False</td>\n",
       "      <td>False</td>\n",
       "      <td>False</td>\n",
       "      <td>False</td>\n",
       "      <td>False</td>\n",
       "      <td>False</td>\n",
       "    </tr>\n",
       "    <tr>\n",
       "      <th>7</th>\n",
       "      <td>False</td>\n",
       "      <td>False</td>\n",
       "      <td>False</td>\n",
       "      <td>False</td>\n",
       "      <td>False</td>\n",
       "      <td>False</td>\n",
       "      <td>False</td>\n",
       "    </tr>\n",
       "    <tr>\n",
       "      <th>8</th>\n",
       "      <td>False</td>\n",
       "      <td>False</td>\n",
       "      <td>False</td>\n",
       "      <td>False</td>\n",
       "      <td>False</td>\n",
       "      <td>False</td>\n",
       "      <td>False</td>\n",
       "    </tr>\n",
       "    <tr>\n",
       "      <th>9</th>\n",
       "      <td>False</td>\n",
       "      <td>False</td>\n",
       "      <td>False</td>\n",
       "      <td>False</td>\n",
       "      <td>False</td>\n",
       "      <td>False</td>\n",
       "      <td>False</td>\n",
       "    </tr>\n",
       "    <tr>\n",
       "      <th>10</th>\n",
       "      <td>False</td>\n",
       "      <td>False</td>\n",
       "      <td>False</td>\n",
       "      <td>False</td>\n",
       "      <td>False</td>\n",
       "      <td>False</td>\n",
       "      <td>False</td>\n",
       "    </tr>\n",
       "    <tr>\n",
       "      <th>11</th>\n",
       "      <td>False</td>\n",
       "      <td>False</td>\n",
       "      <td>False</td>\n",
       "      <td>False</td>\n",
       "      <td>False</td>\n",
       "      <td>False</td>\n",
       "      <td>False</td>\n",
       "    </tr>\n",
       "    <tr>\n",
       "      <th>12</th>\n",
       "      <td>False</td>\n",
       "      <td>False</td>\n",
       "      <td>False</td>\n",
       "      <td>False</td>\n",
       "      <td>False</td>\n",
       "      <td>False</td>\n",
       "      <td>False</td>\n",
       "    </tr>\n",
       "    <tr>\n",
       "      <th>13</th>\n",
       "      <td>False</td>\n",
       "      <td>False</td>\n",
       "      <td>False</td>\n",
       "      <td>False</td>\n",
       "      <td>False</td>\n",
       "      <td>False</td>\n",
       "      <td>False</td>\n",
       "    </tr>\n",
       "  </tbody>\n",
       "</table>\n",
       "</div>"
      ],
      "text/plain": [
       "    Maths Score  Reading Score  Writing Score  Placement Score  \\\n",
       "0         False          False          False            False   \n",
       "1         False          False          False            False   \n",
       "2         False          False          False            False   \n",
       "3         False          False          False            False   \n",
       "4         False          False          False            False   \n",
       "5         False          False          False            False   \n",
       "6         False          False          False            False   \n",
       "7         False          False          False            False   \n",
       "8         False          False          False            False   \n",
       "9         False          False          False            False   \n",
       "10        False          False          False            False   \n",
       "11        False          False          False            False   \n",
       "12        False          False          False            False   \n",
       "13        False          False          False            False   \n",
       "\n",
       "    Club Join Year  Placement Offer Count  Gender  \n",
       "0            False                  False   False  \n",
       "1            False                  False   False  \n",
       "2            False                  False   False  \n",
       "3            False                  False   False  \n",
       "4            False                  False   False  \n",
       "5            False                  False   False  \n",
       "6            False                  False   False  \n",
       "7            False                  False   False  \n",
       "8            False                  False   False  \n",
       "9            False                  False   False  \n",
       "10           False                  False   False  \n",
       "11           False                  False   False  \n",
       "12           False                  False   False  \n",
       "13           False                  False   False  "
      ]
     },
     "execution_count": 5,
     "metadata": {},
     "output_type": "execute_result"
    }
   ],
   "source": [
    "df.isnull()"
   ]
  },
  {
   "cell_type": "code",
   "execution_count": 6,
   "metadata": {
    "colab": {
     "base_uri": "https://localhost:8080/"
    },
    "id": "0UWCO9wAUDPw",
    "outputId": "79ebd38b-75ad-4549-8c53-49faa53b6793"
   },
   "outputs": [
    {
     "data": {
      "text/plain": [
       "Maths Score              0\n",
       "Reading Score            0\n",
       "Writing Score            0\n",
       "Placement Score          0\n",
       "Club Join Year           0\n",
       "Placement Offer Count    0\n",
       "Gender                   0\n",
       "dtype: int64"
      ]
     },
     "execution_count": 6,
     "metadata": {},
     "output_type": "execute_result"
    }
   ],
   "source": [
    "df.isnull().sum()"
   ]
  },
  {
   "cell_type": "code",
   "execution_count": 7,
   "metadata": {
    "colab": {
     "base_uri": "https://localhost:8080/"
    },
    "id": "SZVR9fUBUKa4",
    "outputId": "b0e99f10-f996-4232-c4d5-c22c065df883"
   },
   "outputs": [
    {
     "data": {
      "text/plain": [
       "Index(['Maths Score', 'Reading Score', 'Writing Score', 'Placement Score',\n",
       "       'Club Join Year', 'Placement Offer Count', 'Gender'],\n",
       "      dtype='object')"
      ]
     },
     "execution_count": 7,
     "metadata": {},
     "output_type": "execute_result"
    }
   ],
   "source": [
    "df.columns"
   ]
  },
  {
   "cell_type": "code",
   "execution_count": 8,
   "metadata": {
    "colab": {
     "base_uri": "https://localhost:8080/"
    },
    "id": "eNfhI4r2UN4g",
    "outputId": "fc4c25d7-b610-4499-f3d0-2850fb1a57c5"
   },
   "outputs": [
    {
     "data": {
      "text/plain": [
       "Maths Score              False\n",
       "Reading Score            False\n",
       "Writing Score            False\n",
       "Placement Score          False\n",
       "Club Join Year           False\n",
       "Placement Offer Count    False\n",
       "Gender                   False\n",
       "dtype: bool"
      ]
     },
     "execution_count": 8,
     "metadata": {},
     "output_type": "execute_result"
    }
   ],
   "source": [
    "df.isnull().any()"
   ]
  },
  {
   "cell_type": "code",
   "execution_count": 9,
   "metadata": {
    "colab": {
     "base_uri": "https://localhost:8080/"
    },
    "id": "Jnr5lkQwVQGQ",
    "outputId": "c2a1bdd9-97f6-4ffd-9c27-ec464727f855"
   },
   "outputs": [
    {
     "data": {
      "text/plain": [
       "0"
      ]
     },
     "execution_count": 9,
     "metadata": {},
     "output_type": "execute_result"
    }
   ],
   "source": [
    "pd.isnull(df[\"Maths Score\"]).sum()"
   ]
  },
  {
   "cell_type": "code",
   "execution_count": 10,
   "metadata": {
    "colab": {
     "base_uri": "https://localhost:8080/",
     "height": 488
    },
    "id": "nJPm9q69VZ3I",
    "outputId": "eb9aec9e-d0af-4c70-c7c7-4ea8106c8ff3"
   },
   "outputs": [
    {
     "data": {
      "text/html": [
       "<div>\n",
       "<style scoped>\n",
       "    .dataframe tbody tr th:only-of-type {\n",
       "        vertical-align: middle;\n",
       "    }\n",
       "\n",
       "    .dataframe tbody tr th {\n",
       "        vertical-align: top;\n",
       "    }\n",
       "\n",
       "    .dataframe thead th {\n",
       "        text-align: right;\n",
       "    }\n",
       "</style>\n",
       "<table border=\"1\" class=\"dataframe\">\n",
       "  <thead>\n",
       "    <tr style=\"text-align: right;\">\n",
       "      <th></th>\n",
       "      <th>Maths Score</th>\n",
       "      <th>Reading Score</th>\n",
       "      <th>Writing Score</th>\n",
       "      <th>Placement Score</th>\n",
       "      <th>Club Join Year</th>\n",
       "      <th>Placement Offer Count</th>\n",
       "      <th>Gender</th>\n",
       "    </tr>\n",
       "  </thead>\n",
       "  <tbody>\n",
       "    <tr>\n",
       "      <th>0</th>\n",
       "      <td>True</td>\n",
       "      <td>True</td>\n",
       "      <td>True</td>\n",
       "      <td>True</td>\n",
       "      <td>True</td>\n",
       "      <td>True</td>\n",
       "      <td>True</td>\n",
       "    </tr>\n",
       "    <tr>\n",
       "      <th>1</th>\n",
       "      <td>True</td>\n",
       "      <td>True</td>\n",
       "      <td>True</td>\n",
       "      <td>True</td>\n",
       "      <td>True</td>\n",
       "      <td>True</td>\n",
       "      <td>True</td>\n",
       "    </tr>\n",
       "    <tr>\n",
       "      <th>2</th>\n",
       "      <td>True</td>\n",
       "      <td>True</td>\n",
       "      <td>True</td>\n",
       "      <td>True</td>\n",
       "      <td>True</td>\n",
       "      <td>True</td>\n",
       "      <td>True</td>\n",
       "    </tr>\n",
       "    <tr>\n",
       "      <th>3</th>\n",
       "      <td>True</td>\n",
       "      <td>True</td>\n",
       "      <td>True</td>\n",
       "      <td>True</td>\n",
       "      <td>True</td>\n",
       "      <td>True</td>\n",
       "      <td>True</td>\n",
       "    </tr>\n",
       "    <tr>\n",
       "      <th>4</th>\n",
       "      <td>True</td>\n",
       "      <td>True</td>\n",
       "      <td>True</td>\n",
       "      <td>True</td>\n",
       "      <td>True</td>\n",
       "      <td>True</td>\n",
       "      <td>True</td>\n",
       "    </tr>\n",
       "    <tr>\n",
       "      <th>5</th>\n",
       "      <td>True</td>\n",
       "      <td>True</td>\n",
       "      <td>True</td>\n",
       "      <td>True</td>\n",
       "      <td>True</td>\n",
       "      <td>True</td>\n",
       "      <td>True</td>\n",
       "    </tr>\n",
       "    <tr>\n",
       "      <th>6</th>\n",
       "      <td>True</td>\n",
       "      <td>True</td>\n",
       "      <td>True</td>\n",
       "      <td>True</td>\n",
       "      <td>True</td>\n",
       "      <td>True</td>\n",
       "      <td>True</td>\n",
       "    </tr>\n",
       "    <tr>\n",
       "      <th>7</th>\n",
       "      <td>True</td>\n",
       "      <td>True</td>\n",
       "      <td>True</td>\n",
       "      <td>True</td>\n",
       "      <td>True</td>\n",
       "      <td>True</td>\n",
       "      <td>True</td>\n",
       "    </tr>\n",
       "    <tr>\n",
       "      <th>8</th>\n",
       "      <td>True</td>\n",
       "      <td>True</td>\n",
       "      <td>True</td>\n",
       "      <td>True</td>\n",
       "      <td>True</td>\n",
       "      <td>True</td>\n",
       "      <td>True</td>\n",
       "    </tr>\n",
       "    <tr>\n",
       "      <th>9</th>\n",
       "      <td>True</td>\n",
       "      <td>True</td>\n",
       "      <td>True</td>\n",
       "      <td>True</td>\n",
       "      <td>True</td>\n",
       "      <td>True</td>\n",
       "      <td>True</td>\n",
       "    </tr>\n",
       "    <tr>\n",
       "      <th>10</th>\n",
       "      <td>True</td>\n",
       "      <td>True</td>\n",
       "      <td>True</td>\n",
       "      <td>True</td>\n",
       "      <td>True</td>\n",
       "      <td>True</td>\n",
       "      <td>True</td>\n",
       "    </tr>\n",
       "    <tr>\n",
       "      <th>11</th>\n",
       "      <td>True</td>\n",
       "      <td>True</td>\n",
       "      <td>True</td>\n",
       "      <td>True</td>\n",
       "      <td>True</td>\n",
       "      <td>True</td>\n",
       "      <td>True</td>\n",
       "    </tr>\n",
       "    <tr>\n",
       "      <th>12</th>\n",
       "      <td>True</td>\n",
       "      <td>True</td>\n",
       "      <td>True</td>\n",
       "      <td>True</td>\n",
       "      <td>True</td>\n",
       "      <td>True</td>\n",
       "      <td>True</td>\n",
       "    </tr>\n",
       "    <tr>\n",
       "      <th>13</th>\n",
       "      <td>True</td>\n",
       "      <td>True</td>\n",
       "      <td>True</td>\n",
       "      <td>True</td>\n",
       "      <td>True</td>\n",
       "      <td>True</td>\n",
       "      <td>True</td>\n",
       "    </tr>\n",
       "  </tbody>\n",
       "</table>\n",
       "</div>"
      ],
      "text/plain": [
       "    Maths Score  Reading Score  Writing Score  Placement Score  \\\n",
       "0          True           True           True             True   \n",
       "1          True           True           True             True   \n",
       "2          True           True           True             True   \n",
       "3          True           True           True             True   \n",
       "4          True           True           True             True   \n",
       "5          True           True           True             True   \n",
       "6          True           True           True             True   \n",
       "7          True           True           True             True   \n",
       "8          True           True           True             True   \n",
       "9          True           True           True             True   \n",
       "10         True           True           True             True   \n",
       "11         True           True           True             True   \n",
       "12         True           True           True             True   \n",
       "13         True           True           True             True   \n",
       "\n",
       "    Club Join Year  Placement Offer Count  Gender  \n",
       "0             True                   True    True  \n",
       "1             True                   True    True  \n",
       "2             True                   True    True  \n",
       "3             True                   True    True  \n",
       "4             True                   True    True  \n",
       "5             True                   True    True  \n",
       "6             True                   True    True  \n",
       "7             True                   True    True  \n",
       "8             True                   True    True  \n",
       "9             True                   True    True  \n",
       "10            True                   True    True  \n",
       "11            True                   True    True  \n",
       "12            True                   True    True  \n",
       "13            True                   True    True  "
      ]
     },
     "execution_count": 10,
     "metadata": {},
     "output_type": "execute_result"
    }
   ],
   "source": [
    "df.notnull()"
   ]
  },
  {
   "cell_type": "code",
   "execution_count": 11,
   "metadata": {
    "colab": {
     "base_uri": "https://localhost:8080/"
    },
    "id": "6miWGE5nVesw",
    "outputId": "cabf687d-d2f0-4246-937a-20403832eaf2"
   },
   "outputs": [
    {
     "data": {
      "text/plain": [
       "Maths Score              14\n",
       "Reading Score            14\n",
       "Writing Score            14\n",
       "Placement Score          14\n",
       "Club Join Year           14\n",
       "Placement Offer Count    14\n",
       "Gender                   14\n",
       "dtype: int64"
      ]
     },
     "execution_count": 11,
     "metadata": {},
     "output_type": "execute_result"
    }
   ],
   "source": [
    "df.notnull().sum()"
   ]
  },
  {
   "cell_type": "code",
   "execution_count": 12,
   "metadata": {
    "id": "L-CQ7V5FVj1A"
   },
   "outputs": [],
   "source": [
    "df.head()\n",
    "df1=df"
   ]
  },
  {
   "cell_type": "code",
   "execution_count": 13,
   "metadata": {
    "id": "dLMOCu1iVpGY"
   },
   "outputs": [],
   "source": [
    "from sklearn import preprocessing\n",
    "le=preprocessing.LabelEncoder()"
   ]
  },
  {
   "cell_type": "code",
   "execution_count": 14,
   "metadata": {
    "colab": {
     "base_uri": "https://localhost:8080/",
     "height": 488
    },
    "id": "J_gjmKvRWBho",
    "outputId": "eb4771f1-a825-4713-c9d0-4690f7a1b4b9"
   },
   "outputs": [
    {
     "data": {
      "text/html": [
       "<div>\n",
       "<style scoped>\n",
       "    .dataframe tbody tr th:only-of-type {\n",
       "        vertical-align: middle;\n",
       "    }\n",
       "\n",
       "    .dataframe tbody tr th {\n",
       "        vertical-align: top;\n",
       "    }\n",
       "\n",
       "    .dataframe thead th {\n",
       "        text-align: right;\n",
       "    }\n",
       "</style>\n",
       "<table border=\"1\" class=\"dataframe\">\n",
       "  <thead>\n",
       "    <tr style=\"text-align: right;\">\n",
       "      <th></th>\n",
       "      <th>Maths Score</th>\n",
       "      <th>Reading Score</th>\n",
       "      <th>Writing Score</th>\n",
       "      <th>Placement Score</th>\n",
       "      <th>Club Join Year</th>\n",
       "      <th>Placement Offer Count</th>\n",
       "      <th>Gender</th>\n",
       "    </tr>\n",
       "  </thead>\n",
       "  <tbody>\n",
       "    <tr>\n",
       "      <th>0</th>\n",
       "      <td>64</td>\n",
       "      <td>84</td>\n",
       "      <td>73</td>\n",
       "      <td>65</td>\n",
       "      <td>2024</td>\n",
       "      <td>1</td>\n",
       "      <td>1</td>\n",
       "    </tr>\n",
       "    <tr>\n",
       "      <th>1</th>\n",
       "      <td>54</td>\n",
       "      <td>81</td>\n",
       "      <td>65</td>\n",
       "      <td>74</td>\n",
       "      <td>2021</td>\n",
       "      <td>1</td>\n",
       "      <td>0</td>\n",
       "    </tr>\n",
       "    <tr>\n",
       "      <th>2</th>\n",
       "      <td>63</td>\n",
       "      <td>89</td>\n",
       "      <td>71</td>\n",
       "      <td>71</td>\n",
       "      <td>2023</td>\n",
       "      <td>1</td>\n",
       "      <td>1</td>\n",
       "    </tr>\n",
       "    <tr>\n",
       "      <th>3</th>\n",
       "      <td>50</td>\n",
       "      <td>79</td>\n",
       "      <td>67</td>\n",
       "      <td>66</td>\n",
       "      <td>2023</td>\n",
       "      <td>1</td>\n",
       "      <td>0</td>\n",
       "    </tr>\n",
       "    <tr>\n",
       "      <th>4</th>\n",
       "      <td>51</td>\n",
       "      <td>74</td>\n",
       "      <td>75</td>\n",
       "      <td>70</td>\n",
       "      <td>2022</td>\n",
       "      <td>1</td>\n",
       "      <td>1</td>\n",
       "    </tr>\n",
       "    <tr>\n",
       "      <th>5</th>\n",
       "      <td>57</td>\n",
       "      <td>76</td>\n",
       "      <td>77</td>\n",
       "      <td>68</td>\n",
       "      <td>2020</td>\n",
       "      <td>1</td>\n",
       "      <td>0</td>\n",
       "    </tr>\n",
       "    <tr>\n",
       "      <th>6</th>\n",
       "      <td>66</td>\n",
       "      <td>78</td>\n",
       "      <td>70</td>\n",
       "      <td>72</td>\n",
       "      <td>2021</td>\n",
       "      <td>1</td>\n",
       "      <td>1</td>\n",
       "    </tr>\n",
       "    <tr>\n",
       "      <th>7</th>\n",
       "      <td>59</td>\n",
       "      <td>72</td>\n",
       "      <td>70</td>\n",
       "      <td>63</td>\n",
       "      <td>2024</td>\n",
       "      <td>1</td>\n",
       "      <td>0</td>\n",
       "    </tr>\n",
       "    <tr>\n",
       "      <th>8</th>\n",
       "      <td>55</td>\n",
       "      <td>87</td>\n",
       "      <td>63</td>\n",
       "      <td>61</td>\n",
       "      <td>2024</td>\n",
       "      <td>1</td>\n",
       "      <td>1</td>\n",
       "    </tr>\n",
       "    <tr>\n",
       "      <th>9</th>\n",
       "      <td>52</td>\n",
       "      <td>85</td>\n",
       "      <td>65</td>\n",
       "      <td>68</td>\n",
       "      <td>2021</td>\n",
       "      <td>1</td>\n",
       "      <td>0</td>\n",
       "    </tr>\n",
       "    <tr>\n",
       "      <th>10</th>\n",
       "      <td>62</td>\n",
       "      <td>81</td>\n",
       "      <td>75</td>\n",
       "      <td>72</td>\n",
       "      <td>2021</td>\n",
       "      <td>1</td>\n",
       "      <td>1</td>\n",
       "    </tr>\n",
       "    <tr>\n",
       "      <th>11</th>\n",
       "      <td>52</td>\n",
       "      <td>74</td>\n",
       "      <td>75</td>\n",
       "      <td>63</td>\n",
       "      <td>2024</td>\n",
       "      <td>1</td>\n",
       "      <td>0</td>\n",
       "    </tr>\n",
       "    <tr>\n",
       "      <th>12</th>\n",
       "      <td>51</td>\n",
       "      <td>79</td>\n",
       "      <td>61</td>\n",
       "      <td>77</td>\n",
       "      <td>2023</td>\n",
       "      <td>2</td>\n",
       "      <td>1</td>\n",
       "    </tr>\n",
       "    <tr>\n",
       "      <th>13</th>\n",
       "      <td>60</td>\n",
       "      <td>88</td>\n",
       "      <td>61</td>\n",
       "      <td>64</td>\n",
       "      <td>2021</td>\n",
       "      <td>1</td>\n",
       "      <td>0</td>\n",
       "    </tr>\n",
       "  </tbody>\n",
       "</table>\n",
       "</div>"
      ],
      "text/plain": [
       "    Maths Score  Reading Score  Writing Score  Placement Score  \\\n",
       "0            64             84             73               65   \n",
       "1            54             81             65               74   \n",
       "2            63             89             71               71   \n",
       "3            50             79             67               66   \n",
       "4            51             74             75               70   \n",
       "5            57             76             77               68   \n",
       "6            66             78             70               72   \n",
       "7            59             72             70               63   \n",
       "8            55             87             63               61   \n",
       "9            52             85             65               68   \n",
       "10           62             81             75               72   \n",
       "11           52             74             75               63   \n",
       "12           51             79             61               77   \n",
       "13           60             88             61               64   \n",
       "\n",
       "    Club Join Year  Placement Offer Count  Gender  \n",
       "0             2024                      1       1  \n",
       "1             2021                      1       0  \n",
       "2             2023                      1       1  \n",
       "3             2023                      1       0  \n",
       "4             2022                      1       1  \n",
       "5             2020                      1       0  \n",
       "6             2021                      1       1  \n",
       "7             2024                      1       0  \n",
       "8             2024                      1       1  \n",
       "9             2021                      1       0  \n",
       "10            2021                      1       1  \n",
       "11            2024                      1       0  \n",
       "12            2023                      2       1  \n",
       "13            2021                      1       0  "
      ]
     },
     "execution_count": 14,
     "metadata": {},
     "output_type": "execute_result"
    }
   ],
   "source": [
    "df['Gender']=le.fit_transform(df['Gender'])\n",
    "df"
   ]
  },
  {
   "cell_type": "code",
   "execution_count": 15,
   "metadata": {
    "colab": {
     "base_uri": "https://localhost:8080/"
    },
    "id": "TEqeZ0xLZmDo",
    "outputId": "44db9049-ee9b-41ce-9de1-029f4635f048"
   },
   "outputs": [
    {
     "data": {
      "text/plain": [
       "Index(['Maths Score', 'Reading Score', 'Writing Score', 'Placement Score',\n",
       "       'Club Join Year', 'Placement Offer Count', 'Gender'],\n",
       "      dtype='object')"
      ]
     },
     "execution_count": 15,
     "metadata": {},
     "output_type": "execute_result"
    }
   ],
   "source": [
    "df.columns"
   ]
  },
  {
   "cell_type": "code",
   "execution_count": 16,
   "metadata": {
    "colab": {
     "base_uri": "https://localhost:8080/"
    },
    "id": "XLzLq-IxZp6H",
    "outputId": "76e217b0-e864-4643-fc2c-efee90fdc5fc"
   },
   "outputs": [
    {
     "data": {
      "text/plain": [
       "Maths Score              0\n",
       "Reading Score            0\n",
       "Writing Score            0\n",
       "Placement Score          0\n",
       "Club Join Year           0\n",
       "Placement Offer Count    0\n",
       "Gender                   0\n",
       "dtype: int64"
      ]
     },
     "execution_count": 16,
     "metadata": {},
     "output_type": "execute_result"
    }
   ],
   "source": [
    "df.isnull().sum()"
   ]
  },
  {
   "cell_type": "code",
   "execution_count": 17,
   "metadata": {
    "colab": {
     "base_uri": "https://localhost:8080/",
     "height": 300
    },
    "id": "rr8nR8BzZwUW",
    "outputId": "90daa8ae-5203-4634-fcb6-63a1aee604cc"
   },
   "outputs": [
    {
     "data": {
      "text/html": [
       "<div>\n",
       "<style scoped>\n",
       "    .dataframe tbody tr th:only-of-type {\n",
       "        vertical-align: middle;\n",
       "    }\n",
       "\n",
       "    .dataframe tbody tr th {\n",
       "        vertical-align: top;\n",
       "    }\n",
       "\n",
       "    .dataframe thead th {\n",
       "        text-align: right;\n",
       "    }\n",
       "</style>\n",
       "<table border=\"1\" class=\"dataframe\">\n",
       "  <thead>\n",
       "    <tr style=\"text-align: right;\">\n",
       "      <th></th>\n",
       "      <th>Maths Score</th>\n",
       "      <th>Reading Score</th>\n",
       "      <th>Writing Score</th>\n",
       "      <th>Placement Score</th>\n",
       "      <th>Club Join Year</th>\n",
       "      <th>Placement Offer Count</th>\n",
       "      <th>Gender</th>\n",
       "    </tr>\n",
       "  </thead>\n",
       "  <tbody>\n",
       "    <tr>\n",
       "      <th>count</th>\n",
       "      <td>14.000000</td>\n",
       "      <td>14.000000</td>\n",
       "      <td>14.000000</td>\n",
       "      <td>14.000000</td>\n",
       "      <td>14.000000</td>\n",
       "      <td>14.000000</td>\n",
       "      <td>14.000000</td>\n",
       "    </tr>\n",
       "    <tr>\n",
       "      <th>mean</th>\n",
       "      <td>56.857143</td>\n",
       "      <td>80.500000</td>\n",
       "      <td>69.142857</td>\n",
       "      <td>68.142857</td>\n",
       "      <td>2022.285714</td>\n",
       "      <td>1.071429</td>\n",
       "      <td>0.500000</td>\n",
       "    </tr>\n",
       "    <tr>\n",
       "      <th>std</th>\n",
       "      <td>5.461152</td>\n",
       "      <td>5.487749</td>\n",
       "      <td>5.503246</td>\n",
       "      <td>4.720775</td>\n",
       "      <td>1.437336</td>\n",
       "      <td>0.267261</td>\n",
       "      <td>0.518875</td>\n",
       "    </tr>\n",
       "    <tr>\n",
       "      <th>min</th>\n",
       "      <td>50.000000</td>\n",
       "      <td>72.000000</td>\n",
       "      <td>61.000000</td>\n",
       "      <td>61.000000</td>\n",
       "      <td>2020.000000</td>\n",
       "      <td>1.000000</td>\n",
       "      <td>0.000000</td>\n",
       "    </tr>\n",
       "    <tr>\n",
       "      <th>25%</th>\n",
       "      <td>52.000000</td>\n",
       "      <td>76.500000</td>\n",
       "      <td>65.000000</td>\n",
       "      <td>64.250000</td>\n",
       "      <td>2021.000000</td>\n",
       "      <td>1.000000</td>\n",
       "      <td>0.000000</td>\n",
       "    </tr>\n",
       "    <tr>\n",
       "      <th>50%</th>\n",
       "      <td>56.000000</td>\n",
       "      <td>80.000000</td>\n",
       "      <td>70.000000</td>\n",
       "      <td>68.000000</td>\n",
       "      <td>2022.500000</td>\n",
       "      <td>1.000000</td>\n",
       "      <td>0.500000</td>\n",
       "    </tr>\n",
       "    <tr>\n",
       "      <th>75%</th>\n",
       "      <td>61.500000</td>\n",
       "      <td>84.750000</td>\n",
       "      <td>74.500000</td>\n",
       "      <td>71.750000</td>\n",
       "      <td>2023.750000</td>\n",
       "      <td>1.000000</td>\n",
       "      <td>1.000000</td>\n",
       "    </tr>\n",
       "    <tr>\n",
       "      <th>max</th>\n",
       "      <td>66.000000</td>\n",
       "      <td>89.000000</td>\n",
       "      <td>77.000000</td>\n",
       "      <td>77.000000</td>\n",
       "      <td>2024.000000</td>\n",
       "      <td>2.000000</td>\n",
       "      <td>1.000000</td>\n",
       "    </tr>\n",
       "  </tbody>\n",
       "</table>\n",
       "</div>"
      ],
      "text/plain": [
       "       Maths Score  Reading Score  Writing Score  Placement Score  \\\n",
       "count    14.000000      14.000000      14.000000        14.000000   \n",
       "mean     56.857143      80.500000      69.142857        68.142857   \n",
       "std       5.461152       5.487749       5.503246         4.720775   \n",
       "min      50.000000      72.000000      61.000000        61.000000   \n",
       "25%      52.000000      76.500000      65.000000        64.250000   \n",
       "50%      56.000000      80.000000      70.000000        68.000000   \n",
       "75%      61.500000      84.750000      74.500000        71.750000   \n",
       "max      66.000000      89.000000      77.000000        77.000000   \n",
       "\n",
       "       Club Join Year  Placement Offer Count     Gender  \n",
       "count       14.000000              14.000000  14.000000  \n",
       "mean      2022.285714               1.071429   0.500000  \n",
       "std          1.437336               0.267261   0.518875  \n",
       "min       2020.000000               1.000000   0.000000  \n",
       "25%       2021.000000               1.000000   0.000000  \n",
       "50%       2022.500000               1.000000   0.500000  \n",
       "75%       2023.750000               1.000000   1.000000  \n",
       "max       2024.000000               2.000000   1.000000  "
      ]
     },
     "execution_count": 17,
     "metadata": {},
     "output_type": "execute_result"
    }
   ],
   "source": [
    "df.describe()"
   ]
  },
  {
   "cell_type": "code",
   "execution_count": 18,
   "metadata": {
    "colab": {
     "base_uri": "https://localhost:8080/"
    },
    "id": "fqLatYkKZzrH",
    "outputId": "02fa9b38-4917-4958-d5ab-f54f665a51c7"
   },
   "outputs": [
    {
     "data": {
      "text/plain": [
       "0     84\n",
       "1     81\n",
       "2     89\n",
       "3     79\n",
       "4     74\n",
       "5     76\n",
       "6     78\n",
       "7     72\n",
       "8     87\n",
       "9     85\n",
       "10    81\n",
       "11    74\n",
       "12    79\n",
       "13    88\n",
       "Name: Reading Score, dtype: int64"
      ]
     },
     "execution_count": 18,
     "metadata": {},
     "output_type": "execute_result"
    }
   ],
   "source": [
    "df['Reading Score']"
   ]
  },
  {
   "cell_type": "code",
   "execution_count": 19,
   "metadata": {
    "colab": {
     "base_uri": "https://localhost:8080/"
    },
    "id": "GGuPKaEyaAMm",
    "outputId": "e096b543-ad82-411d-f818-7697277c859c"
   },
   "outputs": [
    {
     "data": {
      "text/plain": [
       "[]"
      ]
     },
     "execution_count": 19,
     "metadata": {},
     "output_type": "execute_result"
    }
   ],
   "source": [
    "df[df['Reading Score'].isnull()].index.tolist()"
   ]
  },
  {
   "cell_type": "code",
   "execution_count": 20,
   "metadata": {
    "id": "7TAclscRaPMT"
   },
   "outputs": [],
   "source": [
    "df['Reading Score']=df['Reading Score'].fillna(60)"
   ]
  },
  {
   "cell_type": "code",
   "execution_count": 21,
   "metadata": {
    "colab": {
     "base_uri": "https://localhost:8080/"
    },
    "id": "fXZARqhranRG",
    "outputId": "683018cc-53c3-47b0-9860-af51f0fbab7d"
   },
   "outputs": [
    {
     "data": {
      "text/plain": [
       "0     84\n",
       "1     81\n",
       "2     89\n",
       "3     79\n",
       "4     74\n",
       "5     76\n",
       "6     78\n",
       "7     72\n",
       "8     87\n",
       "9     85\n",
       "10    81\n",
       "11    74\n",
       "12    79\n",
       "13    88\n",
       "Name: Reading Score, dtype: int64"
      ]
     },
     "execution_count": 21,
     "metadata": {},
     "output_type": "execute_result"
    }
   ],
   "source": [
    "df['Reading Score']"
   ]
  },
  {
   "cell_type": "code",
   "execution_count": 22,
   "metadata": {
    "colab": {
     "base_uri": "https://localhost:8080/"
    },
    "id": "cpktJgK3gHFd",
    "outputId": "80b38ba7-1bc3-4180-839c-3f68a3faeb61"
   },
   "outputs": [
    {
     "data": {
      "text/plain": [
       "[]"
      ]
     },
     "execution_count": 22,
     "metadata": {},
     "output_type": "execute_result"
    }
   ],
   "source": [
    "df[df['Reading Score'].isnull()].index.tolist()"
   ]
  },
  {
   "cell_type": "code",
   "execution_count": 23,
   "metadata": {
    "id": "n24wJzFoeEZE"
   },
   "outputs": [],
   "source": [
    "df['Reading Score']=df['Reading Score'].fillna(60)"
   ]
  },
  {
   "cell_type": "code",
   "execution_count": 24,
   "metadata": {
    "colab": {
     "base_uri": "https://localhost:8080/"
    },
    "id": "y-ezsr7ieTQ8",
    "outputId": "8aaf5a1c-d48f-44a8-dfc7-1d835a363c04"
   },
   "outputs": [
    {
     "data": {
      "text/plain": [
       "0     84\n",
       "1     81\n",
       "2     89\n",
       "3     79\n",
       "4     74\n",
       "5     76\n",
       "6     78\n",
       "7     72\n",
       "8     87\n",
       "9     85\n",
       "10    81\n",
       "11    74\n",
       "12    79\n",
       "13    88\n",
       "Name: Reading Score, dtype: int64"
      ]
     },
     "execution_count": 24,
     "metadata": {},
     "output_type": "execute_result"
    }
   ],
   "source": [
    "df['Reading Score']"
   ]
  },
  {
   "cell_type": "code",
   "execution_count": 25,
   "metadata": {
    "colab": {
     "base_uri": "https://localhost:8080/"
    },
    "id": "B9OzccykebVk",
    "outputId": "d7994468-c1d8-4922-a475-6254582a199c"
   },
   "outputs": [
    {
     "data": {
      "text/plain": [
       "14"
      ]
     },
     "execution_count": 25,
     "metadata": {},
     "output_type": "execute_result"
    }
   ],
   "source": [
    "df['Reading Score'].notnull().sum()"
   ]
  },
  {
   "cell_type": "code",
   "execution_count": 26,
   "metadata": {
    "colab": {
     "base_uri": "https://localhost:8080/"
    },
    "id": "K2mp350mfJ08",
    "outputId": "c6bab28b-6ac7-40e2-8058-563093bec305"
   },
   "outputs": [
    {
     "data": {
      "text/plain": [
       "[]"
      ]
     },
     "execution_count": 26,
     "metadata": {},
     "output_type": "execute_result"
    }
   ],
   "source": [
    "df[df['Maths Score'].isnull()].index.tolist()"
   ]
  },
  {
   "cell_type": "code",
   "execution_count": 27,
   "metadata": {
    "id": "rLGyzg6ZgaCb"
   },
   "outputs": [],
   "source": [
    "df['Math Score']=df['Maths Score'].fillna(df['Maths Score'].mean())"
   ]
  },
  {
   "cell_type": "code",
   "execution_count": 28,
   "metadata": {
    "colab": {
     "base_uri": "https://localhost:8080/"
    },
    "id": "EdGThLuCgyjr",
    "outputId": "3d7392b7-7dbc-471e-845c-dfcbeb1abb53"
   },
   "outputs": [
    {
     "data": {
      "text/plain": [
       "0"
      ]
     },
     "execution_count": 28,
     "metadata": {},
     "output_type": "execute_result"
    }
   ],
   "source": [
    "df['Math Score'].isnull().sum()"
   ]
  },
  {
   "cell_type": "code",
   "execution_count": 29,
   "metadata": {
    "colab": {
     "base_uri": "https://localhost:8080/"
    },
    "id": "K6BR8syjg9Ab",
    "outputId": "09b74a28-a56b-4f35-8c96-48a1bc19c0a7"
   },
   "outputs": [
    {
     "data": {
      "text/plain": [
       "Maths Score              0\n",
       "Reading Score            0\n",
       "Writing Score            0\n",
       "Placement Score          0\n",
       "Club Join Year           0\n",
       "Placement Offer Count    0\n",
       "Gender                   0\n",
       "Math Score               0\n",
       "dtype: int64"
      ]
     },
     "execution_count": 29,
     "metadata": {},
     "output_type": "execute_result"
    }
   ],
   "source": [
    "df.isnull().sum()"
   ]
  },
  {
   "cell_type": "code",
   "execution_count": 30,
   "metadata": {
    "colab": {
     "base_uri": "https://localhost:8080/"
    },
    "id": "-dVaKWOGhIEE",
    "outputId": "823f1e64-2d9b-4567-ab3b-5541d8222ccc"
   },
   "outputs": [
    {
     "data": {
      "text/plain": [
       "[]"
      ]
     },
     "execution_count": 30,
     "metadata": {},
     "output_type": "execute_result"
    }
   ],
   "source": [
    "df[df['Math Score'].isnull()].index.tolist()"
   ]
  },
  {
   "cell_type": "code",
   "execution_count": 31,
   "metadata": {
    "colab": {
     "base_uri": "https://localhost:8080/"
    },
    "id": "UO1guOczhWkM",
    "outputId": "a2728a38-c592-4e61-f35d-cdc42989950b"
   },
   "outputs": [
    {
     "data": {
      "text/plain": [
       "[]"
      ]
     },
     "execution_count": 31,
     "metadata": {},
     "output_type": "execute_result"
    }
   ],
   "source": [
    "df[df['Reading Score'].isnull()].index.tolist()"
   ]
  },
  {
   "cell_type": "code",
   "execution_count": 32,
   "metadata": {
    "colab": {
     "base_uri": "https://localhost:8080/"
    },
    "id": "OPGG4X8Civlz",
    "outputId": "8622cc72-8896-444c-87fb-a53f31e89580"
   },
   "outputs": [
    {
     "data": {
      "text/plain": [
       "Maths Score              0\n",
       "Reading Score            0\n",
       "Writing Score            0\n",
       "Placement Score          0\n",
       "Club Join Year           0\n",
       "Placement Offer Count    0\n",
       "Gender                   0\n",
       "Math Score               0\n",
       "dtype: int64"
      ]
     },
     "execution_count": 32,
     "metadata": {},
     "output_type": "execute_result"
    }
   ],
   "source": [
    "df2.isnull().sum()"
   ]
  },
  {
   "cell_type": "code",
   "execution_count": 33,
   "metadata": {
    "colab": {
     "base_uri": "https://localhost:8080/"
    },
    "id": "NLrVZS_ii3tr",
    "outputId": "2b2255eb-34c8-4f4f-8288-2e05a8bb67ee"
   },
   "outputs": [
    {
     "data": {
      "text/plain": [
       "Maths Score              0\n",
       "Reading Score            0\n",
       "Writing Score            0\n",
       "Placement Score          0\n",
       "Club Join Year           0\n",
       "Placement Offer Count    0\n",
       "Gender                   0\n",
       "Math Score               0\n",
       "dtype: int64"
      ]
     },
     "execution_count": 33,
     "metadata": {},
     "output_type": "execute_result"
    }
   ],
   "source": [
    "df2.isnull().sum()"
   ]
  },
  {
   "cell_type": "markdown",
   "metadata": {
    "id": "4f7BeOmNjNG7"
   },
   "source": [
    "##Deleting null values using drop"
   ]
  },
  {
   "cell_type": "code",
   "execution_count": 34,
   "metadata": {
    "colab": {
     "base_uri": "https://localhost:8080/"
    },
    "id": "hihYw2OQmEKT",
    "outputId": "ad8953be-14e8-4e20-b852-8eaef849fca9"
   },
   "outputs": [
    {
     "data": {
      "text/plain": [
       "Maths Score              0\n",
       "Reading Score            0\n",
       "Writing Score            0\n",
       "Placement Score          0\n",
       "Club Join Year           0\n",
       "Placement Offer Count    0\n",
       "Gender                   0\n",
       "Math Score               0\n",
       "dtype: int64"
      ]
     },
     "execution_count": 34,
     "metadata": {},
     "output_type": "execute_result"
    }
   ],
   "source": [
    "df3.isnull().sum()"
   ]
  },
  {
   "cell_type": "code",
   "execution_count": 35,
   "metadata": {
    "colab": {
     "base_uri": "https://localhost:8080/"
    },
    "id": "H6m7yxthmLzJ",
    "outputId": "6a710505-42f6-429e-9afe-2ceb358f3529"
   },
   "outputs": [
    {
     "data": {
      "text/plain": [
       "[]"
      ]
     },
     "execution_count": 35,
     "metadata": {},
     "output_type": "execute_result"
    }
   ],
   "source": [
    "df3[df3['Math Score'].isnull()].index.tolist()"
   ]
  },
  {
   "cell_type": "code",
   "execution_count": 36,
   "metadata": {
    "colab": {
     "base_uri": "https://localhost:8080/"
    },
    "id": "4L482O_rmZ3y",
    "outputId": "e448672c-62a2-45bd-d250-7794a8f623b2"
   },
   "outputs": [
    {
     "data": {
      "text/plain": [
       "[]"
      ]
     },
     "execution_count": 36,
     "metadata": {},
     "output_type": "execute_result"
    }
   ],
   "source": [
    "df3[df3['Reading Score'].isnull()].index.tolist()"
   ]
  },
  {
   "cell_type": "code",
   "execution_count": 37,
   "metadata": {
    "colab": {
     "base_uri": "https://localhost:8080/",
     "height": 488
    },
    "id": "eq-dPeyWmndh",
    "outputId": "2f8e6ccc-e16c-4ab2-e2b9-87dd4c1e4aa0"
   },
   "outputs": [
    {
     "data": {
      "text/html": [
       "<div>\n",
       "<style scoped>\n",
       "    .dataframe tbody tr th:only-of-type {\n",
       "        vertical-align: middle;\n",
       "    }\n",
       "\n",
       "    .dataframe tbody tr th {\n",
       "        vertical-align: top;\n",
       "    }\n",
       "\n",
       "    .dataframe thead th {\n",
       "        text-align: right;\n",
       "    }\n",
       "</style>\n",
       "<table border=\"1\" class=\"dataframe\">\n",
       "  <thead>\n",
       "    <tr style=\"text-align: right;\">\n",
       "      <th></th>\n",
       "      <th>Maths Score</th>\n",
       "      <th>Reading Score</th>\n",
       "      <th>Writing Score</th>\n",
       "      <th>Placement Score</th>\n",
       "      <th>Club Join Year</th>\n",
       "      <th>Placement Offer Count</th>\n",
       "      <th>Gender</th>\n",
       "      <th>Math Score</th>\n",
       "    </tr>\n",
       "  </thead>\n",
       "  <tbody>\n",
       "    <tr>\n",
       "      <th>0</th>\n",
       "      <td>64</td>\n",
       "      <td>84</td>\n",
       "      <td>73</td>\n",
       "      <td>65</td>\n",
       "      <td>2024</td>\n",
       "      <td>1</td>\n",
       "      <td>1</td>\n",
       "      <td>64</td>\n",
       "    </tr>\n",
       "    <tr>\n",
       "      <th>1</th>\n",
       "      <td>54</td>\n",
       "      <td>81</td>\n",
       "      <td>65</td>\n",
       "      <td>74</td>\n",
       "      <td>2021</td>\n",
       "      <td>1</td>\n",
       "      <td>0</td>\n",
       "      <td>54</td>\n",
       "    </tr>\n",
       "    <tr>\n",
       "      <th>2</th>\n",
       "      <td>63</td>\n",
       "      <td>89</td>\n",
       "      <td>71</td>\n",
       "      <td>71</td>\n",
       "      <td>2023</td>\n",
       "      <td>1</td>\n",
       "      <td>1</td>\n",
       "      <td>63</td>\n",
       "    </tr>\n",
       "    <tr>\n",
       "      <th>3</th>\n",
       "      <td>50</td>\n",
       "      <td>79</td>\n",
       "      <td>67</td>\n",
       "      <td>66</td>\n",
       "      <td>2023</td>\n",
       "      <td>1</td>\n",
       "      <td>0</td>\n",
       "      <td>50</td>\n",
       "    </tr>\n",
       "    <tr>\n",
       "      <th>4</th>\n",
       "      <td>51</td>\n",
       "      <td>74</td>\n",
       "      <td>75</td>\n",
       "      <td>70</td>\n",
       "      <td>2022</td>\n",
       "      <td>1</td>\n",
       "      <td>1</td>\n",
       "      <td>51</td>\n",
       "    </tr>\n",
       "    <tr>\n",
       "      <th>5</th>\n",
       "      <td>57</td>\n",
       "      <td>76</td>\n",
       "      <td>77</td>\n",
       "      <td>68</td>\n",
       "      <td>2020</td>\n",
       "      <td>1</td>\n",
       "      <td>0</td>\n",
       "      <td>57</td>\n",
       "    </tr>\n",
       "    <tr>\n",
       "      <th>6</th>\n",
       "      <td>66</td>\n",
       "      <td>78</td>\n",
       "      <td>70</td>\n",
       "      <td>72</td>\n",
       "      <td>2021</td>\n",
       "      <td>1</td>\n",
       "      <td>1</td>\n",
       "      <td>66</td>\n",
       "    </tr>\n",
       "    <tr>\n",
       "      <th>7</th>\n",
       "      <td>59</td>\n",
       "      <td>72</td>\n",
       "      <td>70</td>\n",
       "      <td>63</td>\n",
       "      <td>2024</td>\n",
       "      <td>1</td>\n",
       "      <td>0</td>\n",
       "      <td>59</td>\n",
       "    </tr>\n",
       "    <tr>\n",
       "      <th>8</th>\n",
       "      <td>55</td>\n",
       "      <td>87</td>\n",
       "      <td>63</td>\n",
       "      <td>61</td>\n",
       "      <td>2024</td>\n",
       "      <td>1</td>\n",
       "      <td>1</td>\n",
       "      <td>55</td>\n",
       "    </tr>\n",
       "    <tr>\n",
       "      <th>9</th>\n",
       "      <td>52</td>\n",
       "      <td>85</td>\n",
       "      <td>65</td>\n",
       "      <td>68</td>\n",
       "      <td>2021</td>\n",
       "      <td>1</td>\n",
       "      <td>0</td>\n",
       "      <td>52</td>\n",
       "    </tr>\n",
       "    <tr>\n",
       "      <th>10</th>\n",
       "      <td>62</td>\n",
       "      <td>81</td>\n",
       "      <td>75</td>\n",
       "      <td>72</td>\n",
       "      <td>2021</td>\n",
       "      <td>1</td>\n",
       "      <td>1</td>\n",
       "      <td>62</td>\n",
       "    </tr>\n",
       "    <tr>\n",
       "      <th>11</th>\n",
       "      <td>52</td>\n",
       "      <td>74</td>\n",
       "      <td>75</td>\n",
       "      <td>63</td>\n",
       "      <td>2024</td>\n",
       "      <td>1</td>\n",
       "      <td>0</td>\n",
       "      <td>52</td>\n",
       "    </tr>\n",
       "    <tr>\n",
       "      <th>12</th>\n",
       "      <td>51</td>\n",
       "      <td>79</td>\n",
       "      <td>61</td>\n",
       "      <td>77</td>\n",
       "      <td>2023</td>\n",
       "      <td>2</td>\n",
       "      <td>1</td>\n",
       "      <td>51</td>\n",
       "    </tr>\n",
       "    <tr>\n",
       "      <th>13</th>\n",
       "      <td>60</td>\n",
       "      <td>88</td>\n",
       "      <td>61</td>\n",
       "      <td>64</td>\n",
       "      <td>2021</td>\n",
       "      <td>1</td>\n",
       "      <td>0</td>\n",
       "      <td>60</td>\n",
       "    </tr>\n",
       "  </tbody>\n",
       "</table>\n",
       "</div>"
      ],
      "text/plain": [
       "    Maths Score  Reading Score  Writing Score  Placement Score  \\\n",
       "0            64             84             73               65   \n",
       "1            54             81             65               74   \n",
       "2            63             89             71               71   \n",
       "3            50             79             67               66   \n",
       "4            51             74             75               70   \n",
       "5            57             76             77               68   \n",
       "6            66             78             70               72   \n",
       "7            59             72             70               63   \n",
       "8            55             87             63               61   \n",
       "9            52             85             65               68   \n",
       "10           62             81             75               72   \n",
       "11           52             74             75               63   \n",
       "12           51             79             61               77   \n",
       "13           60             88             61               64   \n",
       "\n",
       "    Club Join Year  Placement Offer Count  Gender  Math Score  \n",
       "0             2024                      1       1          64  \n",
       "1             2021                      1       0          54  \n",
       "2             2023                      1       1          63  \n",
       "3             2023                      1       0          50  \n",
       "4             2022                      1       1          51  \n",
       "5             2020                      1       0          57  \n",
       "6             2021                      1       1          66  \n",
       "7             2024                      1       0          59  \n",
       "8             2024                      1       1          55  \n",
       "9             2021                      1       0          52  \n",
       "10            2021                      1       1          62  \n",
       "11            2024                      1       0          52  \n",
       "12            2023                      2       1          51  \n",
       "13            2021                      1       0          60  "
      ]
     },
     "execution_count": 37,
     "metadata": {},
     "output_type": "execute_result"
    }
   ],
   "source": [
    "df3.dropna()"
   ]
  },
  {
   "cell_type": "code",
   "execution_count": 38,
   "metadata": {
    "colab": {
     "base_uri": "https://localhost:8080/",
     "height": 488
    },
    "id": "XRjFiL30mtai",
    "outputId": "7c710bf1-b001-455a-fa9c-50e3a836ab7f"
   },
   "outputs": [
    {
     "data": {
      "text/html": [
       "<div>\n",
       "<style scoped>\n",
       "    .dataframe tbody tr th:only-of-type {\n",
       "        vertical-align: middle;\n",
       "    }\n",
       "\n",
       "    .dataframe tbody tr th {\n",
       "        vertical-align: top;\n",
       "    }\n",
       "\n",
       "    .dataframe thead th {\n",
       "        text-align: right;\n",
       "    }\n",
       "</style>\n",
       "<table border=\"1\" class=\"dataframe\">\n",
       "  <thead>\n",
       "    <tr style=\"text-align: right;\">\n",
       "      <th></th>\n",
       "      <th>Maths Score</th>\n",
       "      <th>Reading Score</th>\n",
       "      <th>Writing Score</th>\n",
       "      <th>Placement Score</th>\n",
       "      <th>Club Join Year</th>\n",
       "      <th>Placement Offer Count</th>\n",
       "      <th>Gender</th>\n",
       "      <th>Math Score</th>\n",
       "    </tr>\n",
       "  </thead>\n",
       "  <tbody>\n",
       "    <tr>\n",
       "      <th>0</th>\n",
       "      <td>64</td>\n",
       "      <td>84</td>\n",
       "      <td>73</td>\n",
       "      <td>65</td>\n",
       "      <td>2024</td>\n",
       "      <td>1</td>\n",
       "      <td>1</td>\n",
       "      <td>64</td>\n",
       "    </tr>\n",
       "    <tr>\n",
       "      <th>1</th>\n",
       "      <td>54</td>\n",
       "      <td>81</td>\n",
       "      <td>65</td>\n",
       "      <td>74</td>\n",
       "      <td>2021</td>\n",
       "      <td>1</td>\n",
       "      <td>0</td>\n",
       "      <td>54</td>\n",
       "    </tr>\n",
       "    <tr>\n",
       "      <th>2</th>\n",
       "      <td>63</td>\n",
       "      <td>89</td>\n",
       "      <td>71</td>\n",
       "      <td>71</td>\n",
       "      <td>2023</td>\n",
       "      <td>1</td>\n",
       "      <td>1</td>\n",
       "      <td>63</td>\n",
       "    </tr>\n",
       "    <tr>\n",
       "      <th>3</th>\n",
       "      <td>50</td>\n",
       "      <td>79</td>\n",
       "      <td>67</td>\n",
       "      <td>66</td>\n",
       "      <td>2023</td>\n",
       "      <td>1</td>\n",
       "      <td>0</td>\n",
       "      <td>50</td>\n",
       "    </tr>\n",
       "    <tr>\n",
       "      <th>4</th>\n",
       "      <td>51</td>\n",
       "      <td>74</td>\n",
       "      <td>75</td>\n",
       "      <td>70</td>\n",
       "      <td>2022</td>\n",
       "      <td>1</td>\n",
       "      <td>1</td>\n",
       "      <td>51</td>\n",
       "    </tr>\n",
       "    <tr>\n",
       "      <th>5</th>\n",
       "      <td>57</td>\n",
       "      <td>76</td>\n",
       "      <td>77</td>\n",
       "      <td>68</td>\n",
       "      <td>2020</td>\n",
       "      <td>1</td>\n",
       "      <td>0</td>\n",
       "      <td>57</td>\n",
       "    </tr>\n",
       "    <tr>\n",
       "      <th>6</th>\n",
       "      <td>66</td>\n",
       "      <td>78</td>\n",
       "      <td>70</td>\n",
       "      <td>72</td>\n",
       "      <td>2021</td>\n",
       "      <td>1</td>\n",
       "      <td>1</td>\n",
       "      <td>66</td>\n",
       "    </tr>\n",
       "    <tr>\n",
       "      <th>7</th>\n",
       "      <td>59</td>\n",
       "      <td>72</td>\n",
       "      <td>70</td>\n",
       "      <td>63</td>\n",
       "      <td>2024</td>\n",
       "      <td>1</td>\n",
       "      <td>0</td>\n",
       "      <td>59</td>\n",
       "    </tr>\n",
       "    <tr>\n",
       "      <th>8</th>\n",
       "      <td>55</td>\n",
       "      <td>87</td>\n",
       "      <td>63</td>\n",
       "      <td>61</td>\n",
       "      <td>2024</td>\n",
       "      <td>1</td>\n",
       "      <td>1</td>\n",
       "      <td>55</td>\n",
       "    </tr>\n",
       "    <tr>\n",
       "      <th>9</th>\n",
       "      <td>52</td>\n",
       "      <td>85</td>\n",
       "      <td>65</td>\n",
       "      <td>68</td>\n",
       "      <td>2021</td>\n",
       "      <td>1</td>\n",
       "      <td>0</td>\n",
       "      <td>52</td>\n",
       "    </tr>\n",
       "    <tr>\n",
       "      <th>10</th>\n",
       "      <td>62</td>\n",
       "      <td>81</td>\n",
       "      <td>75</td>\n",
       "      <td>72</td>\n",
       "      <td>2021</td>\n",
       "      <td>1</td>\n",
       "      <td>1</td>\n",
       "      <td>62</td>\n",
       "    </tr>\n",
       "    <tr>\n",
       "      <th>11</th>\n",
       "      <td>52</td>\n",
       "      <td>74</td>\n",
       "      <td>75</td>\n",
       "      <td>63</td>\n",
       "      <td>2024</td>\n",
       "      <td>1</td>\n",
       "      <td>0</td>\n",
       "      <td>52</td>\n",
       "    </tr>\n",
       "    <tr>\n",
       "      <th>12</th>\n",
       "      <td>51</td>\n",
       "      <td>79</td>\n",
       "      <td>61</td>\n",
       "      <td>77</td>\n",
       "      <td>2023</td>\n",
       "      <td>2</td>\n",
       "      <td>1</td>\n",
       "      <td>51</td>\n",
       "    </tr>\n",
       "    <tr>\n",
       "      <th>13</th>\n",
       "      <td>60</td>\n",
       "      <td>88</td>\n",
       "      <td>61</td>\n",
       "      <td>64</td>\n",
       "      <td>2021</td>\n",
       "      <td>1</td>\n",
       "      <td>0</td>\n",
       "      <td>60</td>\n",
       "    </tr>\n",
       "  </tbody>\n",
       "</table>\n",
       "</div>"
      ],
      "text/plain": [
       "    Maths Score  Reading Score  Writing Score  Placement Score  \\\n",
       "0            64             84             73               65   \n",
       "1            54             81             65               74   \n",
       "2            63             89             71               71   \n",
       "3            50             79             67               66   \n",
       "4            51             74             75               70   \n",
       "5            57             76             77               68   \n",
       "6            66             78             70               72   \n",
       "7            59             72             70               63   \n",
       "8            55             87             63               61   \n",
       "9            52             85             65               68   \n",
       "10           62             81             75               72   \n",
       "11           52             74             75               63   \n",
       "12           51             79             61               77   \n",
       "13           60             88             61               64   \n",
       "\n",
       "    Club Join Year  Placement Offer Count  Gender  Math Score  \n",
       "0             2024                      1       1          64  \n",
       "1             2021                      1       0          54  \n",
       "2             2023                      1       1          63  \n",
       "3             2023                      1       0          50  \n",
       "4             2022                      1       1          51  \n",
       "5             2020                      1       0          57  \n",
       "6             2021                      1       1          66  \n",
       "7             2024                      1       0          59  \n",
       "8             2024                      1       1          55  \n",
       "9             2021                      1       0          52  \n",
       "10            2021                      1       1          62  \n",
       "11            2024                      1       0          52  \n",
       "12            2023                      2       1          51  \n",
       "13            2021                      1       0          60  "
      ]
     },
     "execution_count": 38,
     "metadata": {},
     "output_type": "execute_result"
    }
   ],
   "source": [
    "df4.dropna(axis = 1)"
   ]
  },
  {
   "cell_type": "markdown",
   "metadata": {
    "id": "jjNSnobxoCP2"
   },
   "source": [
    "**Handling Outliers**"
   ]
  },
  {
   "cell_type": "markdown",
   "metadata": {
    "id": "iC5OyTyyoKsO"
   },
   "source": [
    "##1.Detecting Outliers using Boxplot:"
   ]
  },
  {
   "cell_type": "code",
   "execution_count": 39,
   "metadata": {
    "colab": {
     "base_uri": "https://localhost:8080/"
    },
    "id": "rj_Hj7mdoVwQ",
    "outputId": "1fee6668-e90d-4f38-a228-e661d1cc388a"
   },
   "outputs": [
    {
     "data": {
      "text/plain": [
       "Index(['Maths Score', 'Reading Score', 'Writing Score', 'Placement Score',\n",
       "       'Club Join Year', 'Placement Offer Count', 'Gender', 'Math Score'],\n",
       "      dtype='object')"
      ]
     },
     "execution_count": 39,
     "metadata": {},
     "output_type": "execute_result"
    }
   ],
   "source": [
    "df.columns"
   ]
  },
  {
   "cell_type": "code",
   "execution_count": 40,
   "metadata": {
    "id": "RxiRDJqboZ2o"
   },
   "outputs": [],
   "source": [
    "col=['Gender','Reading Score','Writing Score', 'Placement Score', 'Placement Offer Count','Math Score']"
   ]
  },
  {
   "cell_type": "code",
   "execution_count": 41,
   "metadata": {
    "id": "MscUD1wYpLAp"
   },
   "outputs": [],
   "source": [
    "\n",
    "import matplotlib.pyplot as plt\n",
    "%matplotlib inline"
   ]
  },
  {
   "cell_type": "code",
   "execution_count": 42,
   "metadata": {
    "colab": {
     "base_uri": "https://localhost:8080/",
     "height": 445
    },
    "id": "BLt2F9XIpg_K",
    "outputId": "3a926826-ef8c-4bb2-c533-49031b834eb8"
   },
   "outputs": [
    {
     "data": {
      "text/plain": [
       "<AxesSubplot:>"
      ]
     },
     "execution_count": 42,
     "metadata": {},
     "output_type": "execute_result"
    },
    {
     "data": {
      "image/png": "[encoded data removed]",
      "text/plain": [
       "<Figure size 1000x700 with 1 Axes>"
      ]
     },
     "metadata": {},
     "output_type": "display_data"
    }
   ],
   "source": [
    "plt.figure(figsize=(10,7))\n",
    "df.boxplot(col)"
   ]
  },
  {
   "cell_type": "code",
   "execution_count": 43,
   "metadata": {
    "colab": {
     "base_uri": "https://localhost:8080/",
     "height": 1000
    },
    "id": "g-VYFTAIrXly",
    "outputId": "722f11ce-f87b-48d0-e55d-1bdc6a77b034"
   },
   "outputs": [
    {
     "data": {
      "image/png": "[encoded data removed]",
      "text/plain": [
       "<Figure size 640x480 with 1 Axes>"
      ]
     },
     "metadata": {},
     "output_type": "display_data"
    },
    {
     "data": {
      "image/png": "[encoded data removed]",
      "text/plain": [
       "<Figure size 640x480 with 1 Axes>"
      ]
     },
     "metadata": {},
     "output_type": "display_data"
    },
    {
     "data": {
      "image/png": "[encoded data removed]",
      "text/plain": [
       "<Figure size 640x480 with 1 Axes>"
      ]
     },
     "metadata": {},
     "output_type": "display_data"
    },
    {
     "data": {
      "image/png": "[encoded data removed]",
      "text/plain": [
       "<Figure size 640x480 with 1 Axes>"
      ]
     },
     "metadata": {},
     "output_type": "display_data"
    },
    {
     "data": {
      "image/png": "[encoded data removed]",
      "text/plain": [
       "<Figure size 640x480 with 1 Axes>"
      ]
     },
     "metadata": {},
     "output_type": "display_data"
    },
    {
     "data": {
      "image/png": "[encoded data removed]",
      "text/plain": [
       "<Figure size 640x480 with 1 Axes>"
      ]
     },
     "metadata": {},
     "output_type": "display_data"
    },
    {
     "data": {
      "image/png": "[encoded data removed]",
      "text/plain": [
       "<Figure size 640x480 with 1 Axes>"
      ]
     },
     "metadata": {},
     "output_type": "display_data"
    },
    {
     "data": {
      "image/png": "[encoded data removed]",
      "text/plain": [
       "<Figure size 640x480 with 1 Axes>"
      ]
     },
     "metadata": {},
     "output_type": "display_data"
    }
   ],
   "source": [
    "for column in df:\n",
    "    plt.figure()\n",
    "    df.boxplot([column])"
   ]
  },
  {
   "cell_type": "code",
   "execution_count": 44,
   "metadata": {
    "id": "7ssQyJ7jrtyC"
   },
   "outputs": [],
   "source": [
    "import seaborn as sns"
   ]
  },
  {
   "cell_type": "code",
   "execution_count": 45,
   "metadata": {
    "colab": {
     "base_uri": "https://localhost:8080/",
     "height": 1000
    },
    "id": "v-LI3G-Trzup",
    "outputId": "869ae76d-b2c2-465b-9662-f2877b525010"
   },
   "outputs": [
    {
     "data": {
      "image/png": "[encoded data removed]",
      "text/plain": [
       "<Figure size 700x500 with 1 Axes>"
      ]
     },
     "metadata": {},
     "output_type": "display_data"
    },
    {
     "data": {
      "image/png": "[encoded data removed]",
      "text/plain": [
       "<Figure size 700x500 with 1 Axes>"
      ]
     },
     "metadata": {},
     "output_type": "display_data"
    },
    {
     "data": {
      "image/png": "[encoded data removed]",
      "text/plain": [
       "<Figure size 700x500 with 1 Axes>"
      ]
     },
     "metadata": {},
     "output_type": "display_data"
    },
    {
     "data": {
      "image/png": "[encoded data removed]",
      "text/plain": [
       "<Figure size 700x500 with 1 Axes>"
      ]
     },
     "metadata": {},
     "output_type": "display_data"
    },
    {
     "data": {
      "image/png": "[encoded data removed]",
      "text/plain": [
       "<Figure size 700x500 with 1 Axes>"
      ]
     },
     "metadata": {},
     "output_type": "display_data"
    },
    {
     "data": {
      "image/png": "[encoded data removed]",
      "text/plain": [
       "<Figure size 700x500 with 1 Axes>"
      ]
     },
     "metadata": {},
     "output_type": "display_data"
    },
    {
     "data": {
      "image/png": "[encoded data removed]",
      "text/plain": [
       "<Figure size 700x500 with 1 Axes>"
      ]
     },
     "metadata": {},
     "output_type": "display_data"
    },
    {
     "data": {
      "image/png": "[encoded data removed]",
      "text/plain": [
       "<Figure size 700x500 with 1 Axes>"
      ]
     },
     "metadata": {},
     "output_type": "display_data"
    }
   ],
   "source": [
    "for column in df:\n",
    "    plt.figure(figsize=(7,5))\n",
    "    sns.boxplot(data=df,y=column)"
   ]
  },
  {
   "cell_type": "code",
   "execution_count": 46,
   "metadata": {
    "id": "5gjDJ3ncRxu-"
   },
   "outputs": [],
   "source": [
    "import numpy as np"
   ]
  },
  {
   "cell_type": "code",
   "execution_count": 47,
   "metadata": {
    "colab": {
     "base_uri": "https://localhost:8080/"
    },
    "id": "xtLztTYPQvzX",
    "outputId": "5002c909-c5bf-4489-94d9-9af8b1773539"
   },
   "outputs": [
    {
     "name": "stdout",
     "output_type": "stream",
     "text": [
      "(array([], dtype=int64),)\n"
     ]
    }
   ],
   "source": [
    "print(np.where(df['Math Score']>70))"
   ]
  },
  {
   "cell_type": "code",
   "execution_count": 48,
   "metadata": {
    "colab": {
     "base_uri": "https://localhost:8080/"
    },
    "id": "FRo085AqR2W1",
    "outputId": "49e1d02c-2ffe-474f-b934-dd8aff910e0a"
   },
   "outputs": [
    {
     "name": "stdout",
     "output_type": "stream",
     "text": [
      "(array([ 0,  1,  2,  8,  9, 10, 13], dtype=int64),)\n"
     ]
    }
   ],
   "source": [
    "print(np.where(df['Reading Score']>80))"
   ]
  },
  {
   "cell_type": "code",
   "execution_count": 49,
   "metadata": {
    "colab": {
     "base_uri": "https://localhost:8080/"
    },
    "id": "cedxVPsnSAlt",
    "outputId": "469633d3-d50c-4dbc-9909-14d2adfe5bc2"
   },
   "outputs": [
    {
     "name": "stdout",
     "output_type": "stream",
     "text": [
      "(array([ 0,  1,  2,  3,  4,  5,  6,  7,  8,  9, 10, 11, 12, 13],\n",
      "      dtype=int64),)\n"
     ]
    }
   ],
   "source": [
    "print(np.where(df['Writing Score']>60))"
   ]
  },
  {
   "cell_type": "markdown",
   "metadata": {
    "id": "bj9ESyoJShHE"
   },
   "source": [
    "## 2 Detecting outliers using Scatterplot"
   ]
  },
  {
   "cell_type": "code",
   "execution_count": 50,
   "metadata": {
    "colab": {
     "base_uri": "https://localhost:8080/",
     "height": 265
    },
    "id": "BL9MxI5VTZ19",
    "outputId": "6b06d8ff-90c2-4816-ac9f-38ec47d64f88"
   },
   "outputs": [
    {
     "data": {
      "image/png": "[encoded data removed]",
      "text/plain": [
       "<Figure size 640x480 with 1 Axes>"
      ]
     },
     "metadata": {},
     "output_type": "display_data"
    }
   ],
   "source": [
    "plt.scatter(df['Math Score'], df['Placement Offer Count'])\n",
    "plt.show()"
   ]
  },
  {
   "cell_type": "code",
   "execution_count": 51,
   "metadata": {
    "colab": {
     "base_uri": "https://localhost:8080/"
    },
    "id": "r_qazsS9WZyW",
    "outputId": "a9c4d6f2-c4d0-4409-896f-5065de080463"
   },
   "outputs": [
    {
     "data": {
      "text/plain": [
       "Index(['Maths Score', 'Reading Score', 'Writing Score', 'Placement Score',\n",
       "       'Club Join Year', 'Placement Offer Count', 'Gender', 'Math Score'],\n",
       "      dtype='object')"
      ]
     },
     "execution_count": 51,
     "metadata": {},
     "output_type": "execute_result"
    }
   ],
   "source": [
    "df.columns"
   ]
  },
  {
   "cell_type": "code",
   "execution_count": 52,
   "metadata": {
    "colab": {
     "base_uri": "https://localhost:8080/",
     "height": 265
    },
    "id": "2XraVaR7WeXS",
    "outputId": "fc7401ce-6a2b-453d-f0c8-5452d99610cd"
   },
   "outputs": [
    {
     "data": {
      "image/png": "[encoded data removed]",
      "text/plain": [
       "<Figure size 640x480 with 1 Axes>"
      ]
     },
     "metadata": {},
     "output_type": "display_data"
    }
   ],
   "source": [
    "plt.scatter(df['Placement Score'],df['Placement Offer Count'],c='red',linewidths = 3,marker ='^', edgecolor ='blue', s=50)\n",
    "plt.xlabel=(\"Placement Score\")\n",
    "plt.ylabel=(\"Placemnt Offer Count\")\n",
    "plt.show()"
   ]
  },
  {
   "cell_type": "code",
   "execution_count": 53,
   "metadata": {
    "colab": {
     "base_uri": "https://localhost:8080/",
     "height": 265
    },
    "id": "C59e0Rn-X2bS",
    "outputId": "26ae574e-f8eb-4157-e9a6-7a539cb010c0"
   },
   "outputs": [
    {
     "data": {
      "image/png": "[encoded data removed]",
      "text/plain": [
       "<Figure size 640x480 with 1 Axes>"
      ]
     },
     "metadata": {},
     "output_type": "display_data"
    }
   ],
   "source": [
    "plt.scatter(x=df['Math Score'],y=df['Placement Score'],c='blue',linewidths=4, marker='.', edgecolor='red', s=80)\n",
    "plt.show()"
   ]
  },
  {
   "cell_type": "code",
   "execution_count": 54,
   "metadata": {
    "colab": {
     "base_uri": "https://localhost:8080/",
     "height": 275
    },
    "id": "Sg_2DvC5aCdS",
    "outputId": "4ec08827-6d5c-4bd1-82b1-45c9ef7113ad"
   },
   "outputs": [
    {
     "data": {
      "text/plain": [
       "<Figure size 640x480 with 0 Axes>"
      ]
     },
     "metadata": {},
     "output_type": "display_data"
    },
    {
     "data": {
      "image/png": "[encoded data removed]",
      "text/plain": [
       "<Figure size 640x480 with 2 Axes>"
      ]
     },
     "metadata": {},
     "output_type": "display_data"
    }
   ],
   "source": [
    "plt.figure()\n",
    "df.plot.scatter(x='Placement Score', y='Placement Offer Count', c='Gender', alpha=0.4, cmap=plt.get_cmap('jet'))\n",
    "plt.show()"
   ]
  },
  {
   "cell_type": "markdown",
   "metadata": {
    "id": "SoCFjCRnce0z"
   },
   "source": [
    "## 3 Detecting outliers using z-score:\n"
   ]
  },
  {
   "cell_type": "code",
   "execution_count": 55,
   "metadata": {
    "id": "P0FNidkYrYfJ"
   },
   "outputs": [],
   "source": [
    "from scipy import stats"
   ]
  },
  {
   "cell_type": "code",
   "execution_count": 56,
   "metadata": {
    "colab": {
     "base_uri": "https://localhost:8080/"
    },
    "id": "V5FswNpqeXWV",
    "outputId": "e0259a46-1613-4996-d9a7-1785623480ae"
   },
   "outputs": [
    {
     "data": {
      "text/plain": [
       "0     1.357313\n",
       "1     0.542925\n",
       "2     1.167289\n",
       "3     1.303021\n",
       "4     1.112997\n",
       "5     0.027146\n",
       "6     1.737361\n",
       "7     0.407194\n",
       "8     0.352901\n",
       "9     0.922973\n",
       "10    0.977266\n",
       "11    0.922973\n",
       "12    1.112997\n",
       "13    0.597218\n",
       "Name: Math Score, dtype: float64"
      ]
     },
     "execution_count": 56,
     "metadata": {},
     "output_type": "execute_result"
    }
   ],
   "source": [
    "z=np.abs(stats.zscore(df['Math Score']))\n",
    "z"
   ]
  },
  {
   "cell_type": "code",
   "execution_count": 57,
   "metadata": {
    "colab": {
     "base_uri": "https://localhost:8080/"
    },
    "id": "c3FbCdqQdvvY",
    "outputId": "21dcb26c-0e0a-4e88-9eb8-49787fe245e2"
   },
   "outputs": [
    {
     "data": {
      "text/plain": [
       "(array([], dtype=int64),)"
      ]
     },
     "execution_count": 57,
     "metadata": {},
     "output_type": "execute_result"
    }
   ],
   "source": [
    "threshold =1.8\n",
    "sample_outliers = np.where(z >threshold)\n",
    "sample_outliers"
   ]
  },
  {
   "cell_type": "code",
   "execution_count": 58,
   "metadata": {
    "colab": {
     "base_uri": "https://localhost:8080/"
    },
    "id": "0X8AUcFKeHO7",
    "outputId": "f4e4cc80-1a7b-4586-c518-f123b736d954"
   },
   "outputs": [
    {
     "data": {
      "text/plain": [
       "0     64\n",
       "1     54\n",
       "2     63\n",
       "3     50\n",
       "4     51\n",
       "5     57\n",
       "6     66\n",
       "7     59\n",
       "8     55\n",
       "9     52\n",
       "10    62\n",
       "11    52\n",
       "12    51\n",
       "13    60\n",
       "Name: Math Score, dtype: int64"
      ]
     },
     "execution_count": 58,
     "metadata": {},
     "output_type": "execute_result"
    }
   ],
   "source": [
    "df['Math Score']"
   ]
  },
  {
   "cell_type": "markdown",
   "metadata": {
    "id": "NZk-X3w9hEaK"
   },
   "source": [
    "## 4 Detecting outliers using inter quantilenRange(QR)"
   ]
  },
  {
   "cell_type": "code",
   "execution_count": 59,
   "metadata": {
    "colab": {
     "base_uri": "https://localhost:8080/"
    },
    "id": "r4hqSIJXhVtC",
    "outputId": "474f90f6-504e-4506-f412-d759f4349ac3"
   },
   "outputs": [
    {
     "data": {
      "text/plain": [
       "[72, 74, 74, 76, 78, 79, 79, 81, 81, 84, 85, 87, 88, 89]"
      ]
     },
     "execution_count": 59,
     "metadata": {},
     "output_type": "execute_result"
    }
   ],
   "source": [
    "sorted_rscore = sorted(df['Reading Score'])\n",
    "sorted_rscore\n"
   ]
  },
  {
   "cell_type": "code",
   "execution_count": 60,
   "metadata": {
    "colab": {
     "base_uri": "https://localhost:8080/"
    },
    "id": "P3w4OA-PhzZI",
    "outputId": "5512a963-1d7f-44b0-aff7-5d805592ef7b"
   },
   "outputs": [
    {
     "name": "stdout",
     "output_type": "stream",
     "text": [
      "76.5 84.75\n"
     ]
    }
   ],
   "source": [
    "q1 = np.percentile(sorted_rscore,25)\n",
    "q3 = np.percentile(sorted_rscore,75)\n",
    "print(q1,q3)"
   ]
  },
  {
   "cell_type": "code",
   "execution_count": 61,
   "metadata": {
    "colab": {
     "base_uri": "https://localhost:8080/"
    },
    "id": "io0lF-4BiKod",
    "outputId": "5bd65bc8-8b3c-4eb6-c1af-0deb1111762a"
   },
   "outputs": [
    {
     "data": {
      "text/plain": [
       "8.25"
      ]
     },
     "execution_count": 61,
     "metadata": {},
     "output_type": "execute_result"
    }
   ],
   "source": [
    "IQR = q3-q1\n",
    "IQR"
   ]
  },
  {
   "cell_type": "code",
   "execution_count": 62,
   "metadata": {
    "colab": {
     "base_uri": "https://localhost:8080/"
    },
    "id": "lsZ0eJJriR8Y",
    "outputId": "4bd4ab96-ccf6-47c1-e960-f04cccc590df"
   },
   "outputs": [
    {
     "name": "stdout",
     "output_type": "stream",
     "text": [
      "64.125 97.125\n"
     ]
    }
   ],
   "source": [
    "lwr_bound = q1 -(1.5*IQR)\n",
    "upr_bound = q3+(1.5*IQR)\n",
    "print(lwr_bound, upr_bound)"
   ]
  },
  {
   "cell_type": "code",
   "execution_count": 63,
   "metadata": {
    "colab": {
     "base_uri": "https://localhost:8080/"
    },
    "id": "Mq0pl0kzit_J",
    "outputId": "cae5642c-7110-41a4-b3b9-d631a7bac7b6"
   },
   "outputs": [
    {
     "name": "stdout",
     "output_type": "stream",
     "text": [
      "[]\n"
     ]
    }
   ],
   "source": [
    "r_outliers=[]\n",
    "for i in sorted_rscore:\n",
    "  if(i<lwr_bound or i>upr_bound):\n",
    "    r_outliers.append(i)\n",
    "print(r_outliers)"
   ]
  },
  {
   "cell_type": "code",
   "execution_count": 64,
   "metadata": {
    "colab": {
     "base_uri": "https://localhost:8080/"
    },
    "id": "wtk3H-U-jdid",
    "outputId": "f73148f0-bd05-4629-8c8a-db0434d1b106"
   },
   "outputs": [
    {
     "data": {
      "text/plain": [
       "0     84\n",
       "1     81\n",
       "2     89\n",
       "3     79\n",
       "4     74\n",
       "5     76\n",
       "6     78\n",
       "7     72\n",
       "8     87\n",
       "9     85\n",
       "10    81\n",
       "11    74\n",
       "12    79\n",
       "13    88\n",
       "Name: Reading Score, dtype: int64"
      ]
     },
     "execution_count": 64,
     "metadata": {},
     "output_type": "execute_result"
    }
   ],
   "source": [
    "df['Reading Score']"
   ]
  },
  {
   "cell_type": "markdown",
   "metadata": {
    "id": "81B_LTWRjpiS"
   },
   "source": [
    "#**HANDLING OF OUTLIERS**\n",
    "below are some of the metods of treting the outliers\n",
    "\n",
    "1.Trimming/remove the outliers\n",
    "\n",
    "2.Quantilre based flooring and capping\n",
    "\n",
    "3.Mean/Median imputation"
   ]
  },
  {
   "cell_type": "markdown",
   "metadata": {
    "id": "6i6uJ7xWj-_p"
   },
   "source": [
    "## 1 Trimming/Removing The Outliers\n"
   ]
  },
  {
   "cell_type": "code",
   "execution_count": 65,
   "metadata": {
    "colab": {
     "base_uri": "https://localhost:8080/",
     "height": 488
    },
    "id": "yDaGEQH-kNAi",
    "outputId": "54a8f2a3-4f37-4c39-90bb-e49a725275c1"
   },
   "outputs": [
    {
     "data": {
      "text/html": [
       "<div>\n",
       "<style scoped>\n",
       "    .dataframe tbody tr th:only-of-type {\n",
       "        vertical-align: middle;\n",
       "    }\n",
       "\n",
       "    .dataframe tbody tr th {\n",
       "        vertical-align: top;\n",
       "    }\n",
       "\n",
       "    .dataframe thead th {\n",
       "        text-align: right;\n",
       "    }\n",
       "</style>\n",
       "<table border=\"1\" class=\"dataframe\">\n",
       "  <thead>\n",
       "    <tr style=\"text-align: right;\">\n",
       "      <th></th>\n",
       "      <th>Maths Score</th>\n",
       "      <th>Reading Score</th>\n",
       "      <th>Writing Score</th>\n",
       "      <th>Placement Score</th>\n",
       "      <th>Club Join Year</th>\n",
       "      <th>Placement Offer Count</th>\n",
       "      <th>Gender</th>\n",
       "      <th>Math Score</th>\n",
       "    </tr>\n",
       "  </thead>\n",
       "  <tbody>\n",
       "    <tr>\n",
       "      <th>0</th>\n",
       "      <td>64</td>\n",
       "      <td>84</td>\n",
       "      <td>73</td>\n",
       "      <td>65</td>\n",
       "      <td>2024</td>\n",
       "      <td>1</td>\n",
       "      <td>1</td>\n",
       "      <td>64</td>\n",
       "    </tr>\n",
       "    <tr>\n",
       "      <th>1</th>\n",
       "      <td>54</td>\n",
       "      <td>81</td>\n",
       "      <td>65</td>\n",
       "      <td>74</td>\n",
       "      <td>2021</td>\n",
       "      <td>1</td>\n",
       "      <td>0</td>\n",
       "      <td>54</td>\n",
       "    </tr>\n",
       "    <tr>\n",
       "      <th>2</th>\n",
       "      <td>63</td>\n",
       "      <td>89</td>\n",
       "      <td>71</td>\n",
       "      <td>71</td>\n",
       "      <td>2023</td>\n",
       "      <td>1</td>\n",
       "      <td>1</td>\n",
       "      <td>63</td>\n",
       "    </tr>\n",
       "    <tr>\n",
       "      <th>3</th>\n",
       "      <td>50</td>\n",
       "      <td>79</td>\n",
       "      <td>67</td>\n",
       "      <td>66</td>\n",
       "      <td>2023</td>\n",
       "      <td>1</td>\n",
       "      <td>0</td>\n",
       "      <td>50</td>\n",
       "    </tr>\n",
       "    <tr>\n",
       "      <th>4</th>\n",
       "      <td>51</td>\n",
       "      <td>74</td>\n",
       "      <td>75</td>\n",
       "      <td>70</td>\n",
       "      <td>2022</td>\n",
       "      <td>1</td>\n",
       "      <td>1</td>\n",
       "      <td>51</td>\n",
       "    </tr>\n",
       "    <tr>\n",
       "      <th>5</th>\n",
       "      <td>57</td>\n",
       "      <td>76</td>\n",
       "      <td>77</td>\n",
       "      <td>68</td>\n",
       "      <td>2020</td>\n",
       "      <td>1</td>\n",
       "      <td>0</td>\n",
       "      <td>57</td>\n",
       "    </tr>\n",
       "    <tr>\n",
       "      <th>6</th>\n",
       "      <td>66</td>\n",
       "      <td>78</td>\n",
       "      <td>70</td>\n",
       "      <td>72</td>\n",
       "      <td>2021</td>\n",
       "      <td>1</td>\n",
       "      <td>1</td>\n",
       "      <td>66</td>\n",
       "    </tr>\n",
       "    <tr>\n",
       "      <th>7</th>\n",
       "      <td>59</td>\n",
       "      <td>72</td>\n",
       "      <td>70</td>\n",
       "      <td>63</td>\n",
       "      <td>2024</td>\n",
       "      <td>1</td>\n",
       "      <td>0</td>\n",
       "      <td>59</td>\n",
       "    </tr>\n",
       "    <tr>\n",
       "      <th>8</th>\n",
       "      <td>55</td>\n",
       "      <td>87</td>\n",
       "      <td>63</td>\n",
       "      <td>61</td>\n",
       "      <td>2024</td>\n",
       "      <td>1</td>\n",
       "      <td>1</td>\n",
       "      <td>55</td>\n",
       "    </tr>\n",
       "    <tr>\n",
       "      <th>9</th>\n",
       "      <td>52</td>\n",
       "      <td>85</td>\n",
       "      <td>65</td>\n",
       "      <td>68</td>\n",
       "      <td>2021</td>\n",
       "      <td>1</td>\n",
       "      <td>0</td>\n",
       "      <td>52</td>\n",
       "    </tr>\n",
       "    <tr>\n",
       "      <th>10</th>\n",
       "      <td>62</td>\n",
       "      <td>81</td>\n",
       "      <td>75</td>\n",
       "      <td>72</td>\n",
       "      <td>2021</td>\n",
       "      <td>1</td>\n",
       "      <td>1</td>\n",
       "      <td>62</td>\n",
       "    </tr>\n",
       "    <tr>\n",
       "      <th>11</th>\n",
       "      <td>52</td>\n",
       "      <td>74</td>\n",
       "      <td>75</td>\n",
       "      <td>63</td>\n",
       "      <td>2024</td>\n",
       "      <td>1</td>\n",
       "      <td>0</td>\n",
       "      <td>52</td>\n",
       "    </tr>\n",
       "    <tr>\n",
       "      <th>12</th>\n",
       "      <td>51</td>\n",
       "      <td>79</td>\n",
       "      <td>61</td>\n",
       "      <td>77</td>\n",
       "      <td>2023</td>\n",
       "      <td>2</td>\n",
       "      <td>1</td>\n",
       "      <td>51</td>\n",
       "    </tr>\n",
       "    <tr>\n",
       "      <th>13</th>\n",
       "      <td>60</td>\n",
       "      <td>88</td>\n",
       "      <td>61</td>\n",
       "      <td>64</td>\n",
       "      <td>2021</td>\n",
       "      <td>1</td>\n",
       "      <td>0</td>\n",
       "      <td>60</td>\n",
       "    </tr>\n",
       "  </tbody>\n",
       "</table>\n",
       "</div>"
      ],
      "text/plain": [
       "    Maths Score  Reading Score  Writing Score  Placement Score  \\\n",
       "0            64             84             73               65   \n",
       "1            54             81             65               74   \n",
       "2            63             89             71               71   \n",
       "3            50             79             67               66   \n",
       "4            51             74             75               70   \n",
       "5            57             76             77               68   \n",
       "6            66             78             70               72   \n",
       "7            59             72             70               63   \n",
       "8            55             87             63               61   \n",
       "9            52             85             65               68   \n",
       "10           62             81             75               72   \n",
       "11           52             74             75               63   \n",
       "12           51             79             61               77   \n",
       "13           60             88             61               64   \n",
       "\n",
       "    Club Join Year  Placement Offer Count  Gender  Math Score  \n",
       "0             2024                      1       1          64  \n",
       "1             2021                      1       0          54  \n",
       "2             2023                      1       1          63  \n",
       "3             2023                      1       0          50  \n",
       "4             2022                      1       1          51  \n",
       "5             2020                      1       0          57  \n",
       "6             2021                      1       1          66  \n",
       "7             2024                      1       0          59  \n",
       "8             2024                      1       1          55  \n",
       "9             2021                      1       0          52  \n",
       "10            2021                      1       1          62  \n",
       "11            2024                      1       0          52  \n",
       "12            2023                      2       1          51  \n",
       "13            2021                      1       0          60  "
      ]
     },
     "execution_count": 65,
     "metadata": {},
     "output_type": "execute_result"
    }
   ],
   "source": [
    "new_df =df.copy()\n",
    "for i in sample_outliers:\n",
    "  new_df.drop(i,inplace=True)\n",
    "new_df"
   ]
  },
  {
   "cell_type": "markdown",
   "metadata": {
    "id": "pkwvPLYtmfmB"
   },
   "source": [
    "## 2 Quantile based flooring and capping"
   ]
  },
  {
   "cell_type": "code",
   "execution_count": 66,
   "metadata": {
    "id": "W3YnSVarmyxZ"
   },
   "outputs": [],
   "source": [
    "df_stud=df.copy()"
   ]
  },
  {
   "cell_type": "code",
   "execution_count": 67,
   "metadata": {
    "colab": {
     "base_uri": "https://localhost:8080/",
     "height": 488
    },
    "id": "DRtrlhYKtAvo",
    "outputId": "10aa60e9-614b-4d0b-f2a9-9e4a5cf3e48b"
   },
   "outputs": [
    {
     "data": {
      "text/html": [
       "<div>\n",
       "<style scoped>\n",
       "    .dataframe tbody tr th:only-of-type {\n",
       "        vertical-align: middle;\n",
       "    }\n",
       "\n",
       "    .dataframe tbody tr th {\n",
       "        vertical-align: top;\n",
       "    }\n",
       "\n",
       "    .dataframe thead th {\n",
       "        text-align: right;\n",
       "    }\n",
       "</style>\n",
       "<table border=\"1\" class=\"dataframe\">\n",
       "  <thead>\n",
       "    <tr style=\"text-align: right;\">\n",
       "      <th></th>\n",
       "      <th>Maths Score</th>\n",
       "      <th>Reading Score</th>\n",
       "      <th>Writing Score</th>\n",
       "      <th>Placement Score</th>\n",
       "      <th>Club Join Year</th>\n",
       "      <th>Placement Offer Count</th>\n",
       "      <th>Gender</th>\n",
       "      <th>Math Score</th>\n",
       "    </tr>\n",
       "  </thead>\n",
       "  <tbody>\n",
       "    <tr>\n",
       "      <th>0</th>\n",
       "      <td>64</td>\n",
       "      <td>84</td>\n",
       "      <td>73</td>\n",
       "      <td>65</td>\n",
       "      <td>2024</td>\n",
       "      <td>1</td>\n",
       "      <td>1</td>\n",
       "      <td>64</td>\n",
       "    </tr>\n",
       "    <tr>\n",
       "      <th>1</th>\n",
       "      <td>54</td>\n",
       "      <td>81</td>\n",
       "      <td>65</td>\n",
       "      <td>74</td>\n",
       "      <td>2021</td>\n",
       "      <td>1</td>\n",
       "      <td>0</td>\n",
       "      <td>54</td>\n",
       "    </tr>\n",
       "    <tr>\n",
       "      <th>2</th>\n",
       "      <td>63</td>\n",
       "      <td>89</td>\n",
       "      <td>71</td>\n",
       "      <td>71</td>\n",
       "      <td>2023</td>\n",
       "      <td>1</td>\n",
       "      <td>1</td>\n",
       "      <td>63</td>\n",
       "    </tr>\n",
       "    <tr>\n",
       "      <th>3</th>\n",
       "      <td>50</td>\n",
       "      <td>79</td>\n",
       "      <td>67</td>\n",
       "      <td>66</td>\n",
       "      <td>2023</td>\n",
       "      <td>1</td>\n",
       "      <td>0</td>\n",
       "      <td>50</td>\n",
       "    </tr>\n",
       "    <tr>\n",
       "      <th>4</th>\n",
       "      <td>51</td>\n",
       "      <td>74</td>\n",
       "      <td>75</td>\n",
       "      <td>70</td>\n",
       "      <td>2022</td>\n",
       "      <td>1</td>\n",
       "      <td>1</td>\n",
       "      <td>51</td>\n",
       "    </tr>\n",
       "    <tr>\n",
       "      <th>5</th>\n",
       "      <td>57</td>\n",
       "      <td>76</td>\n",
       "      <td>77</td>\n",
       "      <td>68</td>\n",
       "      <td>2020</td>\n",
       "      <td>1</td>\n",
       "      <td>0</td>\n",
       "      <td>57</td>\n",
       "    </tr>\n",
       "    <tr>\n",
       "      <th>6</th>\n",
       "      <td>66</td>\n",
       "      <td>78</td>\n",
       "      <td>70</td>\n",
       "      <td>72</td>\n",
       "      <td>2021</td>\n",
       "      <td>1</td>\n",
       "      <td>1</td>\n",
       "      <td>66</td>\n",
       "    </tr>\n",
       "    <tr>\n",
       "      <th>7</th>\n",
       "      <td>59</td>\n",
       "      <td>72</td>\n",
       "      <td>70</td>\n",
       "      <td>63</td>\n",
       "      <td>2024</td>\n",
       "      <td>1</td>\n",
       "      <td>0</td>\n",
       "      <td>59</td>\n",
       "    </tr>\n",
       "    <tr>\n",
       "      <th>8</th>\n",
       "      <td>55</td>\n",
       "      <td>87</td>\n",
       "      <td>63</td>\n",
       "      <td>61</td>\n",
       "      <td>2024</td>\n",
       "      <td>1</td>\n",
       "      <td>1</td>\n",
       "      <td>55</td>\n",
       "    </tr>\n",
       "    <tr>\n",
       "      <th>9</th>\n",
       "      <td>52</td>\n",
       "      <td>85</td>\n",
       "      <td>65</td>\n",
       "      <td>68</td>\n",
       "      <td>2021</td>\n",
       "      <td>1</td>\n",
       "      <td>0</td>\n",
       "      <td>52</td>\n",
       "    </tr>\n",
       "    <tr>\n",
       "      <th>10</th>\n",
       "      <td>62</td>\n",
       "      <td>81</td>\n",
       "      <td>75</td>\n",
       "      <td>72</td>\n",
       "      <td>2021</td>\n",
       "      <td>1</td>\n",
       "      <td>1</td>\n",
       "      <td>62</td>\n",
       "    </tr>\n",
       "    <tr>\n",
       "      <th>11</th>\n",
       "      <td>52</td>\n",
       "      <td>74</td>\n",
       "      <td>75</td>\n",
       "      <td>63</td>\n",
       "      <td>2024</td>\n",
       "      <td>1</td>\n",
       "      <td>0</td>\n",
       "      <td>52</td>\n",
       "    </tr>\n",
       "    <tr>\n",
       "      <th>12</th>\n",
       "      <td>51</td>\n",
       "      <td>79</td>\n",
       "      <td>61</td>\n",
       "      <td>77</td>\n",
       "      <td>2023</td>\n",
       "      <td>2</td>\n",
       "      <td>1</td>\n",
       "      <td>51</td>\n",
       "    </tr>\n",
       "    <tr>\n",
       "      <th>13</th>\n",
       "      <td>60</td>\n",
       "      <td>88</td>\n",
       "      <td>61</td>\n",
       "      <td>64</td>\n",
       "      <td>2021</td>\n",
       "      <td>1</td>\n",
       "      <td>0</td>\n",
       "      <td>60</td>\n",
       "    </tr>\n",
       "  </tbody>\n",
       "</table>\n",
       "</div>"
      ],
      "text/plain": [
       "    Maths Score  Reading Score  Writing Score  Placement Score  \\\n",
       "0            64             84             73               65   \n",
       "1            54             81             65               74   \n",
       "2            63             89             71               71   \n",
       "3            50             79             67               66   \n",
       "4            51             74             75               70   \n",
       "5            57             76             77               68   \n",
       "6            66             78             70               72   \n",
       "7            59             72             70               63   \n",
       "8            55             87             63               61   \n",
       "9            52             85             65               68   \n",
       "10           62             81             75               72   \n",
       "11           52             74             75               63   \n",
       "12           51             79             61               77   \n",
       "13           60             88             61               64   \n",
       "\n",
       "    Club Join Year  Placement Offer Count  Gender  Math Score  \n",
       "0             2024                      1       1          64  \n",
       "1             2021                      1       0          54  \n",
       "2             2023                      1       1          63  \n",
       "3             2023                      1       0          50  \n",
       "4             2022                      1       1          51  \n",
       "5             2020                      1       0          57  \n",
       "6             2021                      1       1          66  \n",
       "7             2024                      1       0          59  \n",
       "8             2024                      1       1          55  \n",
       "9             2021                      1       0          52  \n",
       "10            2021                      1       1          62  \n",
       "11            2024                      1       0          52  \n",
       "12            2023                      2       1          51  \n",
       "13            2021                      1       0          60  "
      ]
     },
     "execution_count": 67,
     "metadata": {},
     "output_type": "execute_result"
    }
   ],
   "source": [
    "df_stud"
   ]
  },
  {
   "cell_type": "code",
   "execution_count": 68,
   "metadata": {
    "id": "0h2WE5f5tTtD"
   },
   "outputs": [],
   "source": [
    "df_stud1=df_stud.copy()\n",
    "a=np.where(df_stud['Math Score']<62.0,62.0,df_stud1['Math Score'])\n",
    "b=np.where(df_stud['Math Score']<79.1,79.1,df_stud1['Math Score'])"
   ]
  },
  {
   "cell_type": "code",
   "execution_count": 69,
   "metadata": {
    "colab": {
     "base_uri": "https://localhost:8080/"
    },
    "id": "_CfjfGwNuRoW",
    "outputId": "671277f7-f5fa-41b3-c827-c661c321cc0c"
   },
   "outputs": [
    {
     "name": "stdout",
     "output_type": "stream",
     "text": [
      "a=,a\n",
      "b=,b\n"
     ]
    }
   ],
   "source": [
    "print(\"a=,a\")\n",
    "print(\"b=,b\")"
   ]
  },
  {
   "cell_type": "code",
   "execution_count": 70,
   "metadata": {
    "colab": {
     "base_uri": "https://localhost:8080/",
     "height": 488
    },
    "id": "UTtB9rfHvmSz",
    "outputId": "458b2a90-d368-42e8-dd76-0d8b785912bb"
   },
   "outputs": [
    {
     "data": {
      "text/html": [
       "<div>\n",
       "<style scoped>\n",
       "    .dataframe tbody tr th:only-of-type {\n",
       "        vertical-align: middle;\n",
       "    }\n",
       "\n",
       "    .dataframe tbody tr th {\n",
       "        vertical-align: top;\n",
       "    }\n",
       "\n",
       "    .dataframe thead th {\n",
       "        text-align: right;\n",
       "    }\n",
       "</style>\n",
       "<table border=\"1\" class=\"dataframe\">\n",
       "  <thead>\n",
       "    <tr style=\"text-align: right;\">\n",
       "      <th></th>\n",
       "      <th>Maths Score</th>\n",
       "      <th>Math Score&lt;79.1</th>\n",
       "      <th>Math Score&lt;62</th>\n",
       "      <th>Reading Score</th>\n",
       "      <th>Writing Score</th>\n",
       "      <th>Placement Score</th>\n",
       "      <th>Club Join Year</th>\n",
       "      <th>Placement Offer Count</th>\n",
       "      <th>Gender</th>\n",
       "      <th>Math Score</th>\n",
       "    </tr>\n",
       "  </thead>\n",
       "  <tbody>\n",
       "    <tr>\n",
       "      <th>0</th>\n",
       "      <td>64</td>\n",
       "      <td>79.1</td>\n",
       "      <td>64.0</td>\n",
       "      <td>84</td>\n",
       "      <td>73</td>\n",
       "      <td>65</td>\n",
       "      <td>2024</td>\n",
       "      <td>1</td>\n",
       "      <td>1</td>\n",
       "      <td>64</td>\n",
       "    </tr>\n",
       "    <tr>\n",
       "      <th>1</th>\n",
       "      <td>54</td>\n",
       "      <td>79.1</td>\n",
       "      <td>62.0</td>\n",
       "      <td>81</td>\n",
       "      <td>65</td>\n",
       "      <td>74</td>\n",
       "      <td>2021</td>\n",
       "      <td>1</td>\n",
       "      <td>0</td>\n",
       "      <td>54</td>\n",
       "    </tr>\n",
       "    <tr>\n",
       "      <th>2</th>\n",
       "      <td>63</td>\n",
       "      <td>79.1</td>\n",
       "      <td>63.0</td>\n",
       "      <td>89</td>\n",
       "      <td>71</td>\n",
       "      <td>71</td>\n",
       "      <td>2023</td>\n",
       "      <td>1</td>\n",
       "      <td>1</td>\n",
       "      <td>63</td>\n",
       "    </tr>\n",
       "    <tr>\n",
       "      <th>3</th>\n",
       "      <td>50</td>\n",
       "      <td>79.1</td>\n",
       "      <td>62.0</td>\n",
       "      <td>79</td>\n",
       "      <td>67</td>\n",
       "      <td>66</td>\n",
       "      <td>2023</td>\n",
       "      <td>1</td>\n",
       "      <td>0</td>\n",
       "      <td>50</td>\n",
       "    </tr>\n",
       "    <tr>\n",
       "      <th>4</th>\n",
       "      <td>51</td>\n",
       "      <td>79.1</td>\n",
       "      <td>62.0</td>\n",
       "      <td>74</td>\n",
       "      <td>75</td>\n",
       "      <td>70</td>\n",
       "      <td>2022</td>\n",
       "      <td>1</td>\n",
       "      <td>1</td>\n",
       "      <td>51</td>\n",
       "    </tr>\n",
       "    <tr>\n",
       "      <th>5</th>\n",
       "      <td>57</td>\n",
       "      <td>79.1</td>\n",
       "      <td>62.0</td>\n",
       "      <td>76</td>\n",
       "      <td>77</td>\n",
       "      <td>68</td>\n",
       "      <td>2020</td>\n",
       "      <td>1</td>\n",
       "      <td>0</td>\n",
       "      <td>57</td>\n",
       "    </tr>\n",
       "    <tr>\n",
       "      <th>6</th>\n",
       "      <td>66</td>\n",
       "      <td>79.1</td>\n",
       "      <td>66.0</td>\n",
       "      <td>78</td>\n",
       "      <td>70</td>\n",
       "      <td>72</td>\n",
       "      <td>2021</td>\n",
       "      <td>1</td>\n",
       "      <td>1</td>\n",
       "      <td>66</td>\n",
       "    </tr>\n",
       "    <tr>\n",
       "      <th>7</th>\n",
       "      <td>59</td>\n",
       "      <td>79.1</td>\n",
       "      <td>62.0</td>\n",
       "      <td>72</td>\n",
       "      <td>70</td>\n",
       "      <td>63</td>\n",
       "      <td>2024</td>\n",
       "      <td>1</td>\n",
       "      <td>0</td>\n",
       "      <td>59</td>\n",
       "    </tr>\n",
       "    <tr>\n",
       "      <th>8</th>\n",
       "      <td>55</td>\n",
       "      <td>79.1</td>\n",
       "      <td>62.0</td>\n",
       "      <td>87</td>\n",
       "      <td>63</td>\n",
       "      <td>61</td>\n",
       "      <td>2024</td>\n",
       "      <td>1</td>\n",
       "      <td>1</td>\n",
       "      <td>55</td>\n",
       "    </tr>\n",
       "    <tr>\n",
       "      <th>9</th>\n",
       "      <td>52</td>\n",
       "      <td>79.1</td>\n",
       "      <td>62.0</td>\n",
       "      <td>85</td>\n",
       "      <td>65</td>\n",
       "      <td>68</td>\n",
       "      <td>2021</td>\n",
       "      <td>1</td>\n",
       "      <td>0</td>\n",
       "      <td>52</td>\n",
       "    </tr>\n",
       "    <tr>\n",
       "      <th>10</th>\n",
       "      <td>62</td>\n",
       "      <td>79.1</td>\n",
       "      <td>62.0</td>\n",
       "      <td>81</td>\n",
       "      <td>75</td>\n",
       "      <td>72</td>\n",
       "      <td>2021</td>\n",
       "      <td>1</td>\n",
       "      <td>1</td>\n",
       "      <td>62</td>\n",
       "    </tr>\n",
       "    <tr>\n",
       "      <th>11</th>\n",
       "      <td>52</td>\n",
       "      <td>79.1</td>\n",
       "      <td>62.0</td>\n",
       "      <td>74</td>\n",
       "      <td>75</td>\n",
       "      <td>63</td>\n",
       "      <td>2024</td>\n",
       "      <td>1</td>\n",
       "      <td>0</td>\n",
       "      <td>52</td>\n",
       "    </tr>\n",
       "    <tr>\n",
       "      <th>12</th>\n",
       "      <td>51</td>\n",
       "      <td>79.1</td>\n",
       "      <td>62.0</td>\n",
       "      <td>79</td>\n",
       "      <td>61</td>\n",
       "      <td>77</td>\n",
       "      <td>2023</td>\n",
       "      <td>2</td>\n",
       "      <td>1</td>\n",
       "      <td>51</td>\n",
       "    </tr>\n",
       "    <tr>\n",
       "      <th>13</th>\n",
       "      <td>60</td>\n",
       "      <td>79.1</td>\n",
       "      <td>62.0</td>\n",
       "      <td>88</td>\n",
       "      <td>61</td>\n",
       "      <td>64</td>\n",
       "      <td>2021</td>\n",
       "      <td>1</td>\n",
       "      <td>0</td>\n",
       "      <td>60</td>\n",
       "    </tr>\n",
       "  </tbody>\n",
       "</table>\n",
       "</div>"
      ],
      "text/plain": [
       "    Maths Score  Math Score<79.1  Math Score<62  Reading Score  Writing Score  \\\n",
       "0            64             79.1           64.0             84             73   \n",
       "1            54             79.1           62.0             81             65   \n",
       "2            63             79.1           63.0             89             71   \n",
       "3            50             79.1           62.0             79             67   \n",
       "4            51             79.1           62.0             74             75   \n",
       "5            57             79.1           62.0             76             77   \n",
       "6            66             79.1           66.0             78             70   \n",
       "7            59             79.1           62.0             72             70   \n",
       "8            55             79.1           62.0             87             63   \n",
       "9            52             79.1           62.0             85             65   \n",
       "10           62             79.1           62.0             81             75   \n",
       "11           52             79.1           62.0             74             75   \n",
       "12           51             79.1           62.0             79             61   \n",
       "13           60             79.1           62.0             88             61   \n",
       "\n",
       "    Placement Score  Club Join Year  Placement Offer Count  Gender  Math Score  \n",
       "0                65            2024                      1       1          64  \n",
       "1                74            2021                      1       0          54  \n",
       "2                71            2023                      1       1          63  \n",
       "3                66            2023                      1       0          50  \n",
       "4                70            2022                      1       1          51  \n",
       "5                68            2020                      1       0          57  \n",
       "6                72            2021                      1       1          66  \n",
       "7                63            2024                      1       0          59  \n",
       "8                61            2024                      1       1          55  \n",
       "9                68            2021                      1       0          52  \n",
       "10               72            2021                      1       1          62  \n",
       "11               63            2024                      1       0          52  \n",
       "12               77            2023                      2       1          51  \n",
       "13               64            2021                      1       0          60  "
      ]
     },
     "execution_count": 70,
     "metadata": {},
     "output_type": "execute_result"
    }
   ],
   "source": [
    "df_stud.insert(1,\"Math Score<62\",a,True)\n",
    "df_stud.insert(1,\"Math Score<79.1\",b,True)\n",
    "df_stud"
   ]
  },
  {
   "cell_type": "markdown",
   "metadata": {
    "id": "4AmzTK7PwdMf"
   },
   "source": [
    "##Imputing Median Value"
   ]
  },
  {
   "cell_type": "code",
   "execution_count": 71,
   "metadata": {
    "colab": {
     "base_uri": "https://localhost:8080/",
     "height": 265
    },
    "id": "e5fR_fh4wivE",
    "outputId": "b38e09d4-a74d-48cb-a3d1-94257356b25a"
   },
   "outputs": [
    {
     "data": {
      "image/png": "[encoded data removed]",
      "text/plain": [
       "<Figure size 640x480 with 1 Axes>"
      ]
     },
     "metadata": {},
     "output_type": "display_data"
    }
   ],
   "source": [
    "plt.boxplot(df['Reading Score'])\n",
    "plt.show()"
   ]
  },
  {
   "cell_type": "code",
   "execution_count": 72,
   "metadata": {
    "colab": {
     "base_uri": "https://localhost:8080/"
    },
    "id": "5MfEo6PDwv_3",
    "outputId": "8948bf1b-3ab9-495f-d44a-9cbcc75a4b28"
   },
   "outputs": [
    {
     "data": {
      "text/plain": [
       "80.0"
      ]
     },
     "execution_count": 72,
     "metadata": {},
     "output_type": "execute_result"
    }
   ],
   "source": [
    "median=np.median(sorted_rscore)\n",
    "median"
   ]
  },
  {
   "cell_type": "code",
   "execution_count": 73,
   "metadata": {
    "colab": {
     "base_uri": "https://localhost:8080/",
     "height": 488
    },
    "id": "_QhYggVsw8d-",
    "outputId": "e4ef3894-6c8a-4433-efe4-29527ba75e77"
   },
   "outputs": [
    {
     "data": {
      "text/html": [
       "<div>\n",
       "<style scoped>\n",
       "    .dataframe tbody tr th:only-of-type {\n",
       "        vertical-align: middle;\n",
       "    }\n",
       "\n",
       "    .dataframe tbody tr th {\n",
       "        vertical-align: top;\n",
       "    }\n",
       "\n",
       "    .dataframe thead th {\n",
       "        text-align: right;\n",
       "    }\n",
       "</style>\n",
       "<table border=\"1\" class=\"dataframe\">\n",
       "  <thead>\n",
       "    <tr style=\"text-align: right;\">\n",
       "      <th></th>\n",
       "      <th>Maths Score</th>\n",
       "      <th>Reading Score</th>\n",
       "      <th>Writing Score</th>\n",
       "      <th>Placement Score</th>\n",
       "      <th>Club Join Year</th>\n",
       "      <th>Placement Offer Count</th>\n",
       "      <th>Gender</th>\n",
       "      <th>Math Score</th>\n",
       "    </tr>\n",
       "  </thead>\n",
       "  <tbody>\n",
       "    <tr>\n",
       "      <th>0</th>\n",
       "      <td>64</td>\n",
       "      <td>84</td>\n",
       "      <td>73</td>\n",
       "      <td>65</td>\n",
       "      <td>2024</td>\n",
       "      <td>1</td>\n",
       "      <td>1</td>\n",
       "      <td>64</td>\n",
       "    </tr>\n",
       "    <tr>\n",
       "      <th>1</th>\n",
       "      <td>54</td>\n",
       "      <td>81</td>\n",
       "      <td>65</td>\n",
       "      <td>74</td>\n",
       "      <td>2021</td>\n",
       "      <td>1</td>\n",
       "      <td>0</td>\n",
       "      <td>54</td>\n",
       "    </tr>\n",
       "    <tr>\n",
       "      <th>2</th>\n",
       "      <td>63</td>\n",
       "      <td>89</td>\n",
       "      <td>71</td>\n",
       "      <td>71</td>\n",
       "      <td>2023</td>\n",
       "      <td>1</td>\n",
       "      <td>1</td>\n",
       "      <td>63</td>\n",
       "    </tr>\n",
       "    <tr>\n",
       "      <th>3</th>\n",
       "      <td>50</td>\n",
       "      <td>79</td>\n",
       "      <td>67</td>\n",
       "      <td>66</td>\n",
       "      <td>2023</td>\n",
       "      <td>1</td>\n",
       "      <td>0</td>\n",
       "      <td>50</td>\n",
       "    </tr>\n",
       "    <tr>\n",
       "      <th>4</th>\n",
       "      <td>51</td>\n",
       "      <td>74</td>\n",
       "      <td>75</td>\n",
       "      <td>70</td>\n",
       "      <td>2022</td>\n",
       "      <td>1</td>\n",
       "      <td>1</td>\n",
       "      <td>51</td>\n",
       "    </tr>\n",
       "    <tr>\n",
       "      <th>5</th>\n",
       "      <td>57</td>\n",
       "      <td>76</td>\n",
       "      <td>77</td>\n",
       "      <td>68</td>\n",
       "      <td>2020</td>\n",
       "      <td>1</td>\n",
       "      <td>0</td>\n",
       "      <td>57</td>\n",
       "    </tr>\n",
       "    <tr>\n",
       "      <th>6</th>\n",
       "      <td>66</td>\n",
       "      <td>78</td>\n",
       "      <td>70</td>\n",
       "      <td>72</td>\n",
       "      <td>2021</td>\n",
       "      <td>1</td>\n",
       "      <td>1</td>\n",
       "      <td>66</td>\n",
       "    </tr>\n",
       "    <tr>\n",
       "      <th>7</th>\n",
       "      <td>59</td>\n",
       "      <td>72</td>\n",
       "      <td>70</td>\n",
       "      <td>63</td>\n",
       "      <td>2024</td>\n",
       "      <td>1</td>\n",
       "      <td>0</td>\n",
       "      <td>59</td>\n",
       "    </tr>\n",
       "    <tr>\n",
       "      <th>8</th>\n",
       "      <td>55</td>\n",
       "      <td>87</td>\n",
       "      <td>63</td>\n",
       "      <td>61</td>\n",
       "      <td>2024</td>\n",
       "      <td>1</td>\n",
       "      <td>1</td>\n",
       "      <td>55</td>\n",
       "    </tr>\n",
       "    <tr>\n",
       "      <th>9</th>\n",
       "      <td>52</td>\n",
       "      <td>85</td>\n",
       "      <td>65</td>\n",
       "      <td>68</td>\n",
       "      <td>2021</td>\n",
       "      <td>1</td>\n",
       "      <td>0</td>\n",
       "      <td>52</td>\n",
       "    </tr>\n",
       "    <tr>\n",
       "      <th>10</th>\n",
       "      <td>62</td>\n",
       "      <td>81</td>\n",
       "      <td>75</td>\n",
       "      <td>72</td>\n",
       "      <td>2021</td>\n",
       "      <td>1</td>\n",
       "      <td>1</td>\n",
       "      <td>62</td>\n",
       "    </tr>\n",
       "    <tr>\n",
       "      <th>11</th>\n",
       "      <td>52</td>\n",
       "      <td>74</td>\n",
       "      <td>75</td>\n",
       "      <td>63</td>\n",
       "      <td>2024</td>\n",
       "      <td>1</td>\n",
       "      <td>0</td>\n",
       "      <td>52</td>\n",
       "    </tr>\n",
       "    <tr>\n",
       "      <th>12</th>\n",
       "      <td>51</td>\n",
       "      <td>79</td>\n",
       "      <td>61</td>\n",
       "      <td>77</td>\n",
       "      <td>2023</td>\n",
       "      <td>2</td>\n",
       "      <td>1</td>\n",
       "      <td>51</td>\n",
       "    </tr>\n",
       "    <tr>\n",
       "      <th>13</th>\n",
       "      <td>60</td>\n",
       "      <td>88</td>\n",
       "      <td>61</td>\n",
       "      <td>64</td>\n",
       "      <td>2021</td>\n",
       "      <td>1</td>\n",
       "      <td>0</td>\n",
       "      <td>60</td>\n",
       "    </tr>\n",
       "  </tbody>\n",
       "</table>\n",
       "</div>"
      ],
      "text/plain": [
       "    Maths Score  Reading Score  Writing Score  Placement Score  \\\n",
       "0            64             84             73               65   \n",
       "1            54             81             65               74   \n",
       "2            63             89             71               71   \n",
       "3            50             79             67               66   \n",
       "4            51             74             75               70   \n",
       "5            57             76             77               68   \n",
       "6            66             78             70               72   \n",
       "7            59             72             70               63   \n",
       "8            55             87             63               61   \n",
       "9            52             85             65               68   \n",
       "10           62             81             75               72   \n",
       "11           52             74             75               63   \n",
       "12           51             79             61               77   \n",
       "13           60             88             61               64   \n",
       "\n",
       "    Club Join Year  Placement Offer Count  Gender  Math Score  \n",
       "0             2024                      1       1          64  \n",
       "1             2021                      1       0          54  \n",
       "2             2023                      1       1          63  \n",
       "3             2023                      1       0          50  \n",
       "4             2022                      1       1          51  \n",
       "5             2020                      1       0          57  \n",
       "6             2021                      1       1          66  \n",
       "7             2024                      1       0          59  \n",
       "8             2024                      1       1          55  \n",
       "9             2021                      1       0          52  \n",
       "10            2021                      1       1          62  \n",
       "11            2024                      1       0          52  \n",
       "12            2023                      2       1          51  \n",
       "13            2021                      1       0          60  "
      ]
     },
     "execution_count": 73,
     "metadata": {},
     "output_type": "execute_result"
    }
   ],
   "source": [
    "new_df=df.copy()\n",
    "new_df2=new_df.copy()\n",
    "new_df"
   ]
  },
  {
   "cell_type": "code",
   "execution_count": 74,
   "metadata": {
    "colab": {
     "base_uri": "https://localhost:8080/",
     "height": 130
    },
    "id": "xqastKWMxMo2",
    "outputId": "f8652df4-ac88-418d-885f-b40e9301fdba"
   },
   "outputs": [],
   "source": [
    "\n",
    "new_df['Reading Score']=np.where(new_df['Reading Score'] >upr_bound,73.0,new_df['Reading Score'])"
   ]
  },
  {
   "cell_type": "code",
   "execution_count": 75,
   "metadata": {
    "id": "mQzkcFXPyD6f"
   },
   "outputs": [],
   "source": [
    "new_df.insert(2,\"Reading Score\",new_df2['Reading Score'],True)"
   ]
  },
  {
   "cell_type": "code",
   "execution_count": 76,
   "metadata": {
    "colab": {
     "base_uri": "https://localhost:8080/",
     "height": 488
    },
    "id": "SRkqm6-5yg5t",
    "outputId": "41e256e3-a4db-469a-9137-42ec6b33f130"
   },
   "outputs": [
    {
     "data": {
      "text/html": [
       "<div>\n",
       "<style scoped>\n",
       "    .dataframe tbody tr th:only-of-type {\n",
       "        vertical-align: middle;\n",
       "    }\n",
       "\n",
       "    .dataframe tbody tr th {\n",
       "        vertical-align: top;\n",
       "    }\n",
       "\n",
       "    .dataframe thead th {\n",
       "        text-align: right;\n",
       "    }\n",
       "</style>\n",
       "<table border=\"1\" class=\"dataframe\">\n",
       "  <thead>\n",
       "    <tr style=\"text-align: right;\">\n",
       "      <th></th>\n",
       "      <th>Maths Score</th>\n",
       "      <th>Reading Score</th>\n",
       "      <th>Reading Score</th>\n",
       "      <th>Writing Score</th>\n",
       "      <th>Placement Score</th>\n",
       "      <th>Club Join Year</th>\n",
       "      <th>Placement Offer Count</th>\n",
       "      <th>Gender</th>\n",
       "      <th>Math Score</th>\n",
       "    </tr>\n",
       "  </thead>\n",
       "  <tbody>\n",
       "    <tr>\n",
       "      <th>0</th>\n",
       "      <td>64</td>\n",
       "      <td>84.0</td>\n",
       "      <td>84</td>\n",
       "      <td>73</td>\n",
       "      <td>65</td>\n",
       "      <td>2024</td>\n",
       "      <td>1</td>\n",
       "      <td>1</td>\n",
       "      <td>64</td>\n",
       "    </tr>\n",
       "    <tr>\n",
       "      <th>1</th>\n",
       "      <td>54</td>\n",
       "      <td>81.0</td>\n",
       "      <td>81</td>\n",
       "      <td>65</td>\n",
       "      <td>74</td>\n",
       "      <td>2021</td>\n",
       "      <td>1</td>\n",
       "      <td>0</td>\n",
       "      <td>54</td>\n",
       "    </tr>\n",
       "    <tr>\n",
       "      <th>2</th>\n",
       "      <td>63</td>\n",
       "      <td>89.0</td>\n",
       "      <td>89</td>\n",
       "      <td>71</td>\n",
       "      <td>71</td>\n",
       "      <td>2023</td>\n",
       "      <td>1</td>\n",
       "      <td>1</td>\n",
       "      <td>63</td>\n",
       "    </tr>\n",
       "    <tr>\n",
       "      <th>3</th>\n",
       "      <td>50</td>\n",
       "      <td>79.0</td>\n",
       "      <td>79</td>\n",
       "      <td>67</td>\n",
       "      <td>66</td>\n",
       "      <td>2023</td>\n",
       "      <td>1</td>\n",
       "      <td>0</td>\n",
       "      <td>50</td>\n",
       "    </tr>\n",
       "    <tr>\n",
       "      <th>4</th>\n",
       "      <td>51</td>\n",
       "      <td>74.0</td>\n",
       "      <td>74</td>\n",
       "      <td>75</td>\n",
       "      <td>70</td>\n",
       "      <td>2022</td>\n",
       "      <td>1</td>\n",
       "      <td>1</td>\n",
       "      <td>51</td>\n",
       "    </tr>\n",
       "    <tr>\n",
       "      <th>5</th>\n",
       "      <td>57</td>\n",
       "      <td>76.0</td>\n",
       "      <td>76</td>\n",
       "      <td>77</td>\n",
       "      <td>68</td>\n",
       "      <td>2020</td>\n",
       "      <td>1</td>\n",
       "      <td>0</td>\n",
       "      <td>57</td>\n",
       "    </tr>\n",
       "    <tr>\n",
       "      <th>6</th>\n",
       "      <td>66</td>\n",
       "      <td>78.0</td>\n",
       "      <td>78</td>\n",
       "      <td>70</td>\n",
       "      <td>72</td>\n",
       "      <td>2021</td>\n",
       "      <td>1</td>\n",
       "      <td>1</td>\n",
       "      <td>66</td>\n",
       "    </tr>\n",
       "    <tr>\n",
       "      <th>7</th>\n",
       "      <td>59</td>\n",
       "      <td>72.0</td>\n",
       "      <td>72</td>\n",
       "      <td>70</td>\n",
       "      <td>63</td>\n",
       "      <td>2024</td>\n",
       "      <td>1</td>\n",
       "      <td>0</td>\n",
       "      <td>59</td>\n",
       "    </tr>\n",
       "    <tr>\n",
       "      <th>8</th>\n",
       "      <td>55</td>\n",
       "      <td>87.0</td>\n",
       "      <td>87</td>\n",
       "      <td>63</td>\n",
       "      <td>61</td>\n",
       "      <td>2024</td>\n",
       "      <td>1</td>\n",
       "      <td>1</td>\n",
       "      <td>55</td>\n",
       "    </tr>\n",
       "    <tr>\n",
       "      <th>9</th>\n",
       "      <td>52</td>\n",
       "      <td>85.0</td>\n",
       "      <td>85</td>\n",
       "      <td>65</td>\n",
       "      <td>68</td>\n",
       "      <td>2021</td>\n",
       "      <td>1</td>\n",
       "      <td>0</td>\n",
       "      <td>52</td>\n",
       "    </tr>\n",
       "    <tr>\n",
       "      <th>10</th>\n",
       "      <td>62</td>\n",
       "      <td>81.0</td>\n",
       "      <td>81</td>\n",
       "      <td>75</td>\n",
       "      <td>72</td>\n",
       "      <td>2021</td>\n",
       "      <td>1</td>\n",
       "      <td>1</td>\n",
       "      <td>62</td>\n",
       "    </tr>\n",
       "    <tr>\n",
       "      <th>11</th>\n",
       "      <td>52</td>\n",
       "      <td>74.0</td>\n",
       "      <td>74</td>\n",
       "      <td>75</td>\n",
       "      <td>63</td>\n",
       "      <td>2024</td>\n",
       "      <td>1</td>\n",
       "      <td>0</td>\n",
       "      <td>52</td>\n",
       "    </tr>\n",
       "    <tr>\n",
       "      <th>12</th>\n",
       "      <td>51</td>\n",
       "      <td>79.0</td>\n",
       "      <td>79</td>\n",
       "      <td>61</td>\n",
       "      <td>77</td>\n",
       "      <td>2023</td>\n",
       "      <td>2</td>\n",
       "      <td>1</td>\n",
       "      <td>51</td>\n",
       "    </tr>\n",
       "    <tr>\n",
       "      <th>13</th>\n",
       "      <td>60</td>\n",
       "      <td>88.0</td>\n",
       "      <td>88</td>\n",
       "      <td>61</td>\n",
       "      <td>64</td>\n",
       "      <td>2021</td>\n",
       "      <td>1</td>\n",
       "      <td>0</td>\n",
       "      <td>60</td>\n",
       "    </tr>\n",
       "  </tbody>\n",
       "</table>\n",
       "</div>"
      ],
      "text/plain": [
       "    Maths Score  Reading Score  Reading Score  Writing Score  Placement Score  \\\n",
       "0            64           84.0             84             73               65   \n",
       "1            54           81.0             81             65               74   \n",
       "2            63           89.0             89             71               71   \n",
       "3            50           79.0             79             67               66   \n",
       "4            51           74.0             74             75               70   \n",
       "5            57           76.0             76             77               68   \n",
       "6            66           78.0             78             70               72   \n",
       "7            59           72.0             72             70               63   \n",
       "8            55           87.0             87             63               61   \n",
       "9            52           85.0             85             65               68   \n",
       "10           62           81.0             81             75               72   \n",
       "11           52           74.0             74             75               63   \n",
       "12           51           79.0             79             61               77   \n",
       "13           60           88.0             88             61               64   \n",
       "\n",
       "    Club Join Year  Placement Offer Count  Gender  Math Score  \n",
       "0             2024                      1       1          64  \n",
       "1             2021                      1       0          54  \n",
       "2             2023                      1       1          63  \n",
       "3             2023                      1       0          50  \n",
       "4             2022                      1       1          51  \n",
       "5             2020                      1       0          57  \n",
       "6             2021                      1       1          66  \n",
       "7             2024                      1       0          59  \n",
       "8             2024                      1       1          55  \n",
       "9             2021                      1       0          52  \n",
       "10            2021                      1       1          62  \n",
       "11            2024                      1       0          52  \n",
       "12            2023                      2       1          51  \n",
       "13            2021                      1       0          60  "
      ]
     },
     "execution_count": 76,
     "metadata": {},
     "output_type": "execute_result"
    }
   ],
   "source": [
    "new_df"
   ]
  },
  {
   "cell_type": "code",
   "execution_count": 77,
   "metadata": {
    "colab": {
     "base_uri": "https://localhost:8080/",
     "height": 265
    },
    "id": "HrSu0IELyi6D",
    "outputId": "d497074f-66b9-4756-9db7-eed3db346629"
   },
   "outputs": [
    {
     "data": {
      "image/png": "[encoded data removed]",
      "text/plain": [
       "<Figure size 640x480 with 1 Axes>"
      ]
     },
     "metadata": {},
     "output_type": "display_data"
    }
   ],
   "source": [
    "plt.boxplot(new_df['Reading Score'])\n",
    "plt.show()"
   ]
  }
 ],
 "metadata": {
  "colab": {
   "provenance": []
  },
  "kernelspec": {
   "display_name": "Python 3 (ipykernel)",
   "language": "python",
   "name": "python3"
  },
  "language_info": {
   "codemirror_mode": {
    "name": "ipython",
    "version": 3
   },
   "file_extension": ".py",
   "mimetype": "text/x-python",
   "name": "python",
   "nbconvert_exporter": "python",
   "pygments_lexer": "ipython3",
   "version": "3.9.13"
  }
 },
 "nbformat": 4,
 "nbformat_minor": 1
}
